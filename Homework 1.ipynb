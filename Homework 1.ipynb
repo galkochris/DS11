{
 "cells": [
  {
   "cell_type": "code",
   "execution_count": 236,
   "metadata": {},
   "outputs": [],
   "source": [
    "import pandas as pd\n",
    "import numpy as np\n",
    "\n",
    "df = pd.read_csv('titanic.csv')"
   ]
  },
  {
   "cell_type": "code",
   "execution_count": 160,
   "metadata": {},
   "outputs": [
    {
     "name": "stdout",
     "output_type": "stream",
     "text": [
      "{0: 44, 1: 44, 2: 44, 3: 44, 4: 44, 5: 24, 6: 24, 7: 24, 8: 24, 9: 24, 10: 21, 11: 21, 12: 21, 13: 21, 14: 21, 15: 101, 16: 101, 17: 101, 18: 101, 19: 101, 20: 137, 21: 137, 22: 137, 23: 137, 24: 137, 25: 131, 26: 131, 27: 131, 28: 131, 29: 131, 30: 113, 31: 113, 32: 113, 33: 113, 34: 113, 35: 85, 36: 85, 37: 85, 38: 85, 39: 85, 40: 60, 41: 60, 42: 60, 43: 60, 44: 60, 45: 51, 46: 51, 47: 51, 48: 51, 49: 51, 50: 34, 51: 34, 52: 34, 53: 34, 54: 34, 55: 20, 56: 20, 57: 20, 58: 20, 59: 20, 60: 18, 61: 18, 62: 18, 63: 18, 64: 18, 65: 6, 66: 6, 67: 6, 68: 6, 69: 6, 70: 6, 71: 6, 72: 6, 73: 6, 74: 6, 75: 1, 76: 1, 77: 1, 78: 1, 79: 1}\n"
     ]
    }
   ],
   "source": [
    "def custom_hist(ls, interval):\n",
    "    hist_ls_dict = dict()\n",
    "    min_ls = np.min(ls)\n",
    "    max_ls = np.max(ls)\n",
    "    I = np.ceil((max_ls - min_ls) / interval)\n",
    "    for j in range(int(min_ls), int(max_ls), int(I)):\n",
    "#         hist_ls_dict[j]= len([ls >= (j*interval)] and [ls <((j+1)*interval)])\n",
    "#         len(df['Age'].sort_values() < 15)\n",
    "        value = len(ls[(ls>=j) &(ls <= j+I)])\n",
    "        for i in range(j, (j+int(I))):\n",
    "            hist_ls_dict[i]= value \n",
    "    \n",
    "    \n",
    "#         section=[]    \n",
    "#         for i in ls:\n",
    "#             if i >= j*I:\n",
    "#                 if i < (j+1)*I:\n",
    "#                     section.append(i)\n",
    "#                     hist_ls_dict[j] = len(section)\n",
    "    return hist_ls_dict\n",
    "        \n",
    "print(custom_hist(df['Age'].dropna().values, 16))"
   ]
  },
  {
   "cell_type": "code",
   "execution_count": 161,
   "metadata": {},
   "outputs": [],
   "source": [
    "# df[df['Age'].dropna()]['Sex'].values()"
   ]
  },
  {
   "cell_type": "code",
   "execution_count": null,
   "metadata": {},
   "outputs": [],
   "source": []
  },
  {
   "cell_type": "code",
   "execution_count": 162,
   "metadata": {},
   "outputs": [
    {
     "data": {
      "text/plain": [
       "<BarContainer object of 80 artists>"
      ]
     },
     "execution_count": 162,
     "metadata": {},
     "output_type": "execute_result"
    },
    {
     "data": {
      "image/png": "[encoded data removed]",
      "text/plain": [
       "<Figure size 432x288 with 1 Axes>"
      ]
     },
     "metadata": {
      "needs_background": "light"
     },
     "output_type": "display_data"
    }
   ],
   "source": [
    "import matplotlib.pyplot as plt\n",
    "#this version gets decent sized bar graphs and x values but no connection between bar graphs\n",
    "hist_dict = custom_hist(df['Age'].dropna().values, 16)\n",
    "\n",
    "plt.bar(hist_dict.keys(), hist_dict.values())"
   ]
  },
  {
   "cell_type": "code",
   "execution_count": 91,
   "metadata": {},
   "outputs": [
    {
     "data": {
      "text/plain": [
       "<BarContainer object of 15 artists>"
      ]
     },
     "execution_count": 91,
     "metadata": {},
     "output_type": "execute_result"
    },
    {
     "data": {
      "image/png": "[encoded data removed]",
      "text/plain": [
       "<Figure size 432x288 with 1 Axes>"
      ]
     },
     "metadata": {
      "needs_background": "light"
     },
     "output_type": "display_data"
    }
   ],
   "source": [
    "#this version gets decent sized bar graphs but not the right x values\n",
    "hist_dict = custom_hist(df['Age'].dropna().values, 16)\n",
    "\n",
    "plt.bar(hist_dict.keys(), hist_dict.values())"
   ]
  },
  {
   "cell_type": "code",
   "execution_count": 92,
   "metadata": {},
   "outputs": [
    {
     "data": {
      "text/plain": [
       "(array([ 44.,  20.,  19.,  96., 122., 108.,  88.,  67.,  47.,  39.,  24.,\n",
       "         18.,  14.,   3.,   4.,   1.]),\n",
       " array([ 0.42   ,  5.39375, 10.3675 , 15.34125, 20.315  , 25.28875,\n",
       "        30.2625 , 35.23625, 40.21   , 45.18375, 50.1575 , 55.13125,\n",
       "        60.105  , 65.07875, 70.0525 , 75.02625, 80.     ]),\n",
       " <a list of 16 Patch objects>)"
      ]
     },
     "execution_count": 92,
     "metadata": {},
     "output_type": "execute_result"
    },
    {
     "data": {
      "image/png": "[encoded data removed]",
      "text/plain": [
       "<Figure size 432x288 with 1 Axes>"
      ]
     },
     "metadata": {
      "needs_background": "light"
     },
     "output_type": "display_data"
    }
   ],
   "source": [
    "plt.hist(df['Age'].dropna().values , 16)"
   ]
  },
  {
   "cell_type": "code",
   "execution_count": 173,
   "metadata": {},
   "outputs": [],
   "source": [
    "dfs=df.groupby(['Sex', 'Age'])"
   ]
  },
  {
   "cell_type": "code",
   "execution_count": 175,
   "metadata": {},
   "outputs": [
    {
     "data": {
      "text/html": [
       "<div>\n",
       "<style scoped>\n",
       "    .dataframe tbody tr th:only-of-type {\n",
       "        vertical-align: middle;\n",
       "    }\n",
       "\n",
       "    .dataframe tbody tr th {\n",
       "        vertical-align: top;\n",
       "    }\n",
       "\n",
       "    .dataframe thead tr th {\n",
       "        text-align: left;\n",
       "    }\n",
       "\n",
       "    .dataframe thead tr:last-of-type th {\n",
       "        text-align: right;\n",
       "    }\n",
       "</style>\n",
       "<table border=\"1\" class=\"dataframe\">\n",
       "  <thead>\n",
       "    <tr>\n",
       "      <th></th>\n",
       "      <th></th>\n",
       "      <th colspan=\"8\" halign=\"left\">PassengerId</th>\n",
       "      <th colspan=\"2\" halign=\"left\">Survived</th>\n",
       "      <th>...</th>\n",
       "      <th colspan=\"2\" halign=\"left\">Parch</th>\n",
       "      <th colspan=\"8\" halign=\"left\">Fare</th>\n",
       "    </tr>\n",
       "    <tr>\n",
       "      <th></th>\n",
       "      <th></th>\n",
       "      <th>count</th>\n",
       "      <th>mean</th>\n",
       "      <th>std</th>\n",
       "      <th>min</th>\n",
       "      <th>25%</th>\n",
       "      <th>50%</th>\n",
       "      <th>75%</th>\n",
       "      <th>max</th>\n",
       "      <th>count</th>\n",
       "      <th>mean</th>\n",
       "      <th>...</th>\n",
       "      <th>75%</th>\n",
       "      <th>max</th>\n",
       "      <th>count</th>\n",
       "      <th>mean</th>\n",
       "      <th>std</th>\n",
       "      <th>min</th>\n",
       "      <th>25%</th>\n",
       "      <th>50%</th>\n",
       "      <th>75%</th>\n",
       "      <th>max</th>\n",
       "    </tr>\n",
       "    <tr>\n",
       "      <th>Sex</th>\n",
       "      <th>Age</th>\n",
       "      <th></th>\n",
       "      <th></th>\n",
       "      <th></th>\n",
       "      <th></th>\n",
       "      <th></th>\n",
       "      <th></th>\n",
       "      <th></th>\n",
       "      <th></th>\n",
       "      <th></th>\n",
       "      <th></th>\n",
       "      <th></th>\n",
       "      <th></th>\n",
       "      <th></th>\n",
       "      <th></th>\n",
       "      <th></th>\n",
       "      <th></th>\n",
       "      <th></th>\n",
       "      <th></th>\n",
       "      <th></th>\n",
       "      <th></th>\n",
       "      <th></th>\n",
       "    </tr>\n",
       "  </thead>\n",
       "  <tbody>\n",
       "    <tr>\n",
       "      <td rowspan=\"5\" valign=\"top\">female</td>\n",
       "      <td>0.75</td>\n",
       "      <td>2.0</td>\n",
       "      <td>557.500000</td>\n",
       "      <td>123.743687</td>\n",
       "      <td>470.0</td>\n",
       "      <td>513.75</td>\n",
       "      <td>557.5</td>\n",
       "      <td>601.25</td>\n",
       "      <td>645.0</td>\n",
       "      <td>2.0</td>\n",
       "      <td>1.000000</td>\n",
       "      <td>...</td>\n",
       "      <td>1.00</td>\n",
       "      <td>1.0</td>\n",
       "      <td>2.0</td>\n",
       "      <td>19.258300</td>\n",
       "      <td>0.000000</td>\n",
       "      <td>19.2583</td>\n",
       "      <td>19.258300</td>\n",
       "      <td>19.2583</td>\n",
       "      <td>19.25830</td>\n",
       "      <td>19.2583</td>\n",
       "    </tr>\n",
       "    <tr>\n",
       "      <td>1.00</td>\n",
       "      <td>2.0</td>\n",
       "      <td>277.500000</td>\n",
       "      <td>147.785317</td>\n",
       "      <td>173.0</td>\n",
       "      <td>225.25</td>\n",
       "      <td>277.5</td>\n",
       "      <td>329.75</td>\n",
       "      <td>382.0</td>\n",
       "      <td>2.0</td>\n",
       "      <td>1.000000</td>\n",
       "      <td>...</td>\n",
       "      <td>1.75</td>\n",
       "      <td>2.0</td>\n",
       "      <td>2.0</td>\n",
       "      <td>13.437500</td>\n",
       "      <td>3.258631</td>\n",
       "      <td>11.1333</td>\n",
       "      <td>12.285400</td>\n",
       "      <td>13.4375</td>\n",
       "      <td>14.58960</td>\n",
       "      <td>15.7417</td>\n",
       "    </tr>\n",
       "    <tr>\n",
       "      <td>2.00</td>\n",
       "      <td>6.0</td>\n",
       "      <td>379.666667</td>\n",
       "      <td>203.258128</td>\n",
       "      <td>120.0</td>\n",
       "      <td>229.00</td>\n",
       "      <td>389.0</td>\n",
       "      <td>518.25</td>\n",
       "      <td>643.0</td>\n",
       "      <td>6.0</td>\n",
       "      <td>0.333333</td>\n",
       "      <td>...</td>\n",
       "      <td>2.00</td>\n",
       "      <td>2.0</td>\n",
       "      <td>6.0</td>\n",
       "      <td>43.245833</td>\n",
       "      <td>53.738575</td>\n",
       "      <td>10.4625</td>\n",
       "      <td>15.715625</td>\n",
       "      <td>26.9500</td>\n",
       "      <td>30.43125</td>\n",
       "      <td>151.5500</td>\n",
       "    </tr>\n",
       "    <tr>\n",
       "      <td>3.00</td>\n",
       "      <td>2.0</td>\n",
       "      <td>209.500000</td>\n",
       "      <td>234.052345</td>\n",
       "      <td>44.0</td>\n",
       "      <td>126.75</td>\n",
       "      <td>209.5</td>\n",
       "      <td>292.25</td>\n",
       "      <td>375.0</td>\n",
       "      <td>2.0</td>\n",
       "      <td>0.500000</td>\n",
       "      <td>...</td>\n",
       "      <td>1.75</td>\n",
       "      <td>2.0</td>\n",
       "      <td>2.0</td>\n",
       "      <td>31.327100</td>\n",
       "      <td>14.498659</td>\n",
       "      <td>21.0750</td>\n",
       "      <td>26.201050</td>\n",
       "      <td>31.3271</td>\n",
       "      <td>36.45315</td>\n",
       "      <td>41.5792</td>\n",
       "    </tr>\n",
       "    <tr>\n",
       "      <td>4.00</td>\n",
       "      <td>5.0</td>\n",
       "      <td>451.600000</td>\n",
       "      <td>331.910831</td>\n",
       "      <td>11.0</td>\n",
       "      <td>185.00</td>\n",
       "      <td>619.0</td>\n",
       "      <td>692.00</td>\n",
       "      <td>751.0</td>\n",
       "      <td>5.0</td>\n",
       "      <td>1.000000</td>\n",
       "      <td>...</td>\n",
       "      <td>1.00</td>\n",
       "      <td>2.0</td>\n",
       "      <td>5.0</td>\n",
       "      <td>22.828340</td>\n",
       "      <td>9.853082</td>\n",
       "      <td>13.4167</td>\n",
       "      <td>16.700000</td>\n",
       "      <td>22.0250</td>\n",
       "      <td>23.00000</td>\n",
       "      <td>39.0000</td>\n",
       "    </tr>\n",
       "    <tr>\n",
       "      <td>...</td>\n",
       "      <td>...</td>\n",
       "      <td>...</td>\n",
       "      <td>...</td>\n",
       "      <td>...</td>\n",
       "      <td>...</td>\n",
       "      <td>...</td>\n",
       "      <td>...</td>\n",
       "      <td>...</td>\n",
       "      <td>...</td>\n",
       "      <td>...</td>\n",
       "      <td>...</td>\n",
       "      <td>...</td>\n",
       "      <td>...</td>\n",
       "      <td>...</td>\n",
       "      <td>...</td>\n",
       "      <td>...</td>\n",
       "      <td>...</td>\n",
       "      <td>...</td>\n",
       "      <td>...</td>\n",
       "      <td>...</td>\n",
       "      <td>...</td>\n",
       "      <td>...</td>\n",
       "    </tr>\n",
       "    <tr>\n",
       "      <td rowspan=\"5\" valign=\"top\">male</td>\n",
       "      <td>70.00</td>\n",
       "      <td>2.0</td>\n",
       "      <td>709.500000</td>\n",
       "      <td>51.618795</td>\n",
       "      <td>673.0</td>\n",
       "      <td>691.25</td>\n",
       "      <td>709.5</td>\n",
       "      <td>727.75</td>\n",
       "      <td>746.0</td>\n",
       "      <td>2.0</td>\n",
       "      <td>0.000000</td>\n",
       "      <td>...</td>\n",
       "      <td>0.75</td>\n",
       "      <td>1.0</td>\n",
       "      <td>2.0</td>\n",
       "      <td>40.750000</td>\n",
       "      <td>42.779960</td>\n",
       "      <td>10.5000</td>\n",
       "      <td>25.625000</td>\n",
       "      <td>40.7500</td>\n",
       "      <td>55.87500</td>\n",
       "      <td>71.0000</td>\n",
       "    </tr>\n",
       "    <tr>\n",
       "      <td>70.50</td>\n",
       "      <td>1.0</td>\n",
       "      <td>117.000000</td>\n",
       "      <td>NaN</td>\n",
       "      <td>117.0</td>\n",
       "      <td>117.00</td>\n",
       "      <td>117.0</td>\n",
       "      <td>117.00</td>\n",
       "      <td>117.0</td>\n",
       "      <td>1.0</td>\n",
       "      <td>0.000000</td>\n",
       "      <td>...</td>\n",
       "      <td>0.00</td>\n",
       "      <td>0.0</td>\n",
       "      <td>1.0</td>\n",
       "      <td>7.750000</td>\n",
       "      <td>NaN</td>\n",
       "      <td>7.7500</td>\n",
       "      <td>7.750000</td>\n",
       "      <td>7.7500</td>\n",
       "      <td>7.75000</td>\n",
       "      <td>7.7500</td>\n",
       "    </tr>\n",
       "    <tr>\n",
       "      <td>71.00</td>\n",
       "      <td>2.0</td>\n",
       "      <td>295.500000</td>\n",
       "      <td>280.721392</td>\n",
       "      <td>97.0</td>\n",
       "      <td>196.25</td>\n",
       "      <td>295.5</td>\n",
       "      <td>394.75</td>\n",
       "      <td>494.0</td>\n",
       "      <td>2.0</td>\n",
       "      <td>0.000000</td>\n",
       "      <td>...</td>\n",
       "      <td>0.00</td>\n",
       "      <td>0.0</td>\n",
       "      <td>2.0</td>\n",
       "      <td>42.079200</td>\n",
       "      <td>10.500536</td>\n",
       "      <td>34.6542</td>\n",
       "      <td>38.366700</td>\n",
       "      <td>42.0792</td>\n",
       "      <td>45.79170</td>\n",
       "      <td>49.5042</td>\n",
       "    </tr>\n",
       "    <tr>\n",
       "      <td>74.00</td>\n",
       "      <td>1.0</td>\n",
       "      <td>852.000000</td>\n",
       "      <td>NaN</td>\n",
       "      <td>852.0</td>\n",
       "      <td>852.00</td>\n",
       "      <td>852.0</td>\n",
       "      <td>852.00</td>\n",
       "      <td>852.0</td>\n",
       "      <td>1.0</td>\n",
       "      <td>0.000000</td>\n",
       "      <td>...</td>\n",
       "      <td>0.00</td>\n",
       "      <td>0.0</td>\n",
       "      <td>1.0</td>\n",
       "      <td>7.775000</td>\n",
       "      <td>NaN</td>\n",
       "      <td>7.7750</td>\n",
       "      <td>7.775000</td>\n",
       "      <td>7.7750</td>\n",
       "      <td>7.77500</td>\n",
       "      <td>7.7750</td>\n",
       "    </tr>\n",
       "    <tr>\n",
       "      <td>80.00</td>\n",
       "      <td>1.0</td>\n",
       "      <td>631.000000</td>\n",
       "      <td>NaN</td>\n",
       "      <td>631.0</td>\n",
       "      <td>631.00</td>\n",
       "      <td>631.0</td>\n",
       "      <td>631.00</td>\n",
       "      <td>631.0</td>\n",
       "      <td>1.0</td>\n",
       "      <td>1.000000</td>\n",
       "      <td>...</td>\n",
       "      <td>0.00</td>\n",
       "      <td>0.0</td>\n",
       "      <td>1.0</td>\n",
       "      <td>30.000000</td>\n",
       "      <td>NaN</td>\n",
       "      <td>30.0000</td>\n",
       "      <td>30.000000</td>\n",
       "      <td>30.0000</td>\n",
       "      <td>30.00000</td>\n",
       "      <td>30.0000</td>\n",
       "    </tr>\n",
       "  </tbody>\n",
       "</table>\n",
       "<p>145 rows × 48 columns</p>\n",
       "</div>"
      ],
      "text/plain": [
       "             PassengerId                                                \\\n",
       "                   count        mean         std    min     25%    50%   \n",
       "Sex    Age                                                               \n",
       "female 0.75          2.0  557.500000  123.743687  470.0  513.75  557.5   \n",
       "       1.00          2.0  277.500000  147.785317  173.0  225.25  277.5   \n",
       "       2.00          6.0  379.666667  203.258128  120.0  229.00  389.0   \n",
       "       3.00          2.0  209.500000  234.052345   44.0  126.75  209.5   \n",
       "       4.00          5.0  451.600000  331.910831   11.0  185.00  619.0   \n",
       "...                  ...         ...         ...    ...     ...    ...   \n",
       "male   70.00         2.0  709.500000   51.618795  673.0  691.25  709.5   \n",
       "       70.50         1.0  117.000000         NaN  117.0  117.00  117.0   \n",
       "       71.00         2.0  295.500000  280.721392   97.0  196.25  295.5   \n",
       "       74.00         1.0  852.000000         NaN  852.0  852.00  852.0   \n",
       "       80.00         1.0  631.000000         NaN  631.0  631.00  631.0   \n",
       "\n",
       "                            Survived            ... Parch       Fare  \\\n",
       "                 75%    max    count      mean  ...   75%  max count   \n",
       "Sex    Age                                      ...                    \n",
       "female 0.75   601.25  645.0      2.0  1.000000  ...  1.00  1.0   2.0   \n",
       "       1.00   329.75  382.0      2.0  1.000000  ...  1.75  2.0   2.0   \n",
       "       2.00   518.25  643.0      6.0  0.333333  ...  2.00  2.0   6.0   \n",
       "       3.00   292.25  375.0      2.0  0.500000  ...  1.75  2.0   2.0   \n",
       "       4.00   692.00  751.0      5.0  1.000000  ...  1.00  2.0   5.0   \n",
       "...              ...    ...      ...       ...  ...   ...  ...   ...   \n",
       "male   70.00  727.75  746.0      2.0  0.000000  ...  0.75  1.0   2.0   \n",
       "       70.50  117.00  117.0      1.0  0.000000  ...  0.00  0.0   1.0   \n",
       "       71.00  394.75  494.0      2.0  0.000000  ...  0.00  0.0   2.0   \n",
       "       74.00  852.00  852.0      1.0  0.000000  ...  0.00  0.0   1.0   \n",
       "       80.00  631.00  631.0      1.0  1.000000  ...  0.00  0.0   1.0   \n",
       "\n",
       "                                                                           \\\n",
       "                   mean        std      min        25%      50%       75%   \n",
       "Sex    Age                                                                  \n",
       "female 0.75   19.258300   0.000000  19.2583  19.258300  19.2583  19.25830   \n",
       "       1.00   13.437500   3.258631  11.1333  12.285400  13.4375  14.58960   \n",
       "       2.00   43.245833  53.738575  10.4625  15.715625  26.9500  30.43125   \n",
       "       3.00   31.327100  14.498659  21.0750  26.201050  31.3271  36.45315   \n",
       "       4.00   22.828340   9.853082  13.4167  16.700000  22.0250  23.00000   \n",
       "...                 ...        ...      ...        ...      ...       ...   \n",
       "male   70.00  40.750000  42.779960  10.5000  25.625000  40.7500  55.87500   \n",
       "       70.50   7.750000        NaN   7.7500   7.750000   7.7500   7.75000   \n",
       "       71.00  42.079200  10.500536  34.6542  38.366700  42.0792  45.79170   \n",
       "       74.00   7.775000        NaN   7.7750   7.775000   7.7750   7.77500   \n",
       "       80.00  30.000000        NaN  30.0000  30.000000  30.0000  30.00000   \n",
       "\n",
       "                        \n",
       "                   max  \n",
       "Sex    Age              \n",
       "female 0.75    19.2583  \n",
       "       1.00    15.7417  \n",
       "       2.00   151.5500  \n",
       "       3.00    41.5792  \n",
       "       4.00    39.0000  \n",
       "...                ...  \n",
       "male   70.00   71.0000  \n",
       "       70.50    7.7500  \n",
       "       71.00   49.5042  \n",
       "       74.00    7.7750  \n",
       "       80.00   30.0000  \n",
       "\n",
       "[145 rows x 48 columns]"
      ]
     },
     "execution_count": 175,
     "metadata": {},
     "output_type": "execute_result"
    }
   ],
   "source": [
    "dfs.describe()"
   ]
  },
  {
   "cell_type": "code",
   "execution_count": 178,
   "metadata": {},
   "outputs": [
    {
     "ename": "TypeError",
     "evalue": "cannot convert the series to <class 'int'>",
     "output_type": "error",
     "traceback": [
      "\u001b[0;31m---------------------------------------------------------------------------\u001b[0m",
      "\u001b[0;31mTypeError\u001b[0m                                 Traceback (most recent call last)",
      "\u001b[0;32m<ipython-input-178-779a2c8d2011>\u001b[0m in \u001b[0;36m<module>\u001b[0;34m\u001b[0m\n\u001b[0;32m----> 1\u001b[0;31m \u001b[0mhist_dict\u001b[0m \u001b[0;34m=\u001b[0m \u001b[0mcustom_hist\u001b[0m\u001b[0;34m(\u001b[0m\u001b[0mdfs\u001b[0m\u001b[0;34m[\u001b[0m\u001b[0;34m'Age'\u001b[0m\u001b[0;34m]\u001b[0m\u001b[0;34m,\u001b[0m \u001b[0;36m16\u001b[0m\u001b[0;34m)\u001b[0m\u001b[0;34m\u001b[0m\u001b[0;34m\u001b[0m\u001b[0m\n\u001b[0m\u001b[1;32m      2\u001b[0m \u001b[0;34m\u001b[0m\u001b[0m\n\u001b[1;32m      3\u001b[0m \u001b[0mplt\u001b[0m\u001b[0;34m.\u001b[0m\u001b[0mbar\u001b[0m\u001b[0;34m(\u001b[0m\u001b[0mhist_dict\u001b[0m\u001b[0;34m.\u001b[0m\u001b[0mkeys\u001b[0m\u001b[0;34m(\u001b[0m\u001b[0;34m)\u001b[0m\u001b[0;34m,\u001b[0m \u001b[0mhist_dict\u001b[0m\u001b[0;34m.\u001b[0m\u001b[0mvalues\u001b[0m\u001b[0;34m(\u001b[0m\u001b[0;34m)\u001b[0m\u001b[0;34m)\u001b[0m\u001b[0;34m\u001b[0m\u001b[0;34m\u001b[0m\u001b[0m\n",
      "\u001b[0;32m<ipython-input-160-6d6e6825dbec>\u001b[0m in \u001b[0;36mcustom_hist\u001b[0;34m(ls, interval)\u001b[0m\n\u001b[1;32m      4\u001b[0m     \u001b[0mmax_ls\u001b[0m \u001b[0;34m=\u001b[0m \u001b[0mnp\u001b[0m\u001b[0;34m.\u001b[0m\u001b[0mmax\u001b[0m\u001b[0;34m(\u001b[0m\u001b[0mls\u001b[0m\u001b[0;34m)\u001b[0m\u001b[0;34m\u001b[0m\u001b[0;34m\u001b[0m\u001b[0m\n\u001b[1;32m      5\u001b[0m     \u001b[0mI\u001b[0m \u001b[0;34m=\u001b[0m \u001b[0mnp\u001b[0m\u001b[0;34m.\u001b[0m\u001b[0mceil\u001b[0m\u001b[0;34m(\u001b[0m\u001b[0;34m(\u001b[0m\u001b[0mmax_ls\u001b[0m \u001b[0;34m-\u001b[0m \u001b[0mmin_ls\u001b[0m\u001b[0;34m)\u001b[0m \u001b[0;34m/\u001b[0m \u001b[0minterval\u001b[0m\u001b[0;34m)\u001b[0m\u001b[0;34m\u001b[0m\u001b[0;34m\u001b[0m\u001b[0m\n\u001b[0;32m----> 6\u001b[0;31m     \u001b[0;32mfor\u001b[0m \u001b[0mj\u001b[0m \u001b[0;32min\u001b[0m \u001b[0mrange\u001b[0m\u001b[0;34m(\u001b[0m\u001b[0mint\u001b[0m\u001b[0;34m(\u001b[0m\u001b[0mmin_ls\u001b[0m\u001b[0;34m)\u001b[0m\u001b[0;34m,\u001b[0m \u001b[0mint\u001b[0m\u001b[0;34m(\u001b[0m\u001b[0mmax_ls\u001b[0m\u001b[0;34m)\u001b[0m\u001b[0;34m,\u001b[0m \u001b[0mint\u001b[0m\u001b[0;34m(\u001b[0m\u001b[0mI\u001b[0m\u001b[0;34m)\u001b[0m\u001b[0;34m)\u001b[0m\u001b[0;34m:\u001b[0m\u001b[0;34m\u001b[0m\u001b[0;34m\u001b[0m\u001b[0m\n\u001b[0m\u001b[1;32m      7\u001b[0m \u001b[0;31m#         hist_ls_dict[j]= len([ls >= (j*interval)] and [ls <((j+1)*interval)])\u001b[0m\u001b[0;34m\u001b[0m\u001b[0;34m\u001b[0m\u001b[0;34m\u001b[0m\u001b[0m\n\u001b[1;32m      8\u001b[0m \u001b[0;31m#         len(df['Age'].sort_values() < 15)\u001b[0m\u001b[0;34m\u001b[0m\u001b[0;34m\u001b[0m\u001b[0;34m\u001b[0m\u001b[0m\n",
      "\u001b[0;32m~/opt/anaconda3/lib/python3.7/site-packages/pandas/core/series.py\u001b[0m in \u001b[0;36mwrapper\u001b[0;34m(self)\u001b[0m\n\u001b[1;32m    129\u001b[0m         \u001b[0;32mif\u001b[0m \u001b[0mlen\u001b[0m\u001b[0;34m(\u001b[0m\u001b[0mself\u001b[0m\u001b[0;34m)\u001b[0m \u001b[0;34m==\u001b[0m \u001b[0;36m1\u001b[0m\u001b[0;34m:\u001b[0m\u001b[0;34m\u001b[0m\u001b[0;34m\u001b[0m\u001b[0m\n\u001b[1;32m    130\u001b[0m             \u001b[0;32mreturn\u001b[0m \u001b[0mconverter\u001b[0m\u001b[0;34m(\u001b[0m\u001b[0mself\u001b[0m\u001b[0;34m.\u001b[0m\u001b[0miloc\u001b[0m\u001b[0;34m[\u001b[0m\u001b[0;36m0\u001b[0m\u001b[0;34m]\u001b[0m\u001b[0;34m)\u001b[0m\u001b[0;34m\u001b[0m\u001b[0;34m\u001b[0m\u001b[0m\n\u001b[0;32m--> 131\u001b[0;31m         \u001b[0;32mraise\u001b[0m \u001b[0mTypeError\u001b[0m\u001b[0;34m(\u001b[0m\u001b[0;34m\"cannot convert the series to \"\u001b[0m \u001b[0;34m\"{0}\"\u001b[0m\u001b[0;34m.\u001b[0m\u001b[0mformat\u001b[0m\u001b[0;34m(\u001b[0m\u001b[0mstr\u001b[0m\u001b[0;34m(\u001b[0m\u001b[0mconverter\u001b[0m\u001b[0;34m)\u001b[0m\u001b[0;34m)\u001b[0m\u001b[0;34m)\u001b[0m\u001b[0;34m\u001b[0m\u001b[0;34m\u001b[0m\u001b[0m\n\u001b[0m\u001b[1;32m    132\u001b[0m \u001b[0;34m\u001b[0m\u001b[0m\n\u001b[1;32m    133\u001b[0m     \u001b[0mwrapper\u001b[0m\u001b[0;34m.\u001b[0m\u001b[0m__name__\u001b[0m \u001b[0;34m=\u001b[0m \u001b[0;34m\"__{name}__\"\u001b[0m\u001b[0;34m.\u001b[0m\u001b[0mformat\u001b[0m\u001b[0;34m(\u001b[0m\u001b[0mname\u001b[0m\u001b[0;34m=\u001b[0m\u001b[0mconverter\u001b[0m\u001b[0;34m.\u001b[0m\u001b[0m__name__\u001b[0m\u001b[0;34m)\u001b[0m\u001b[0;34m\u001b[0m\u001b[0;34m\u001b[0m\u001b[0m\n",
      "\u001b[0;31mTypeError\u001b[0m: cannot convert the series to <class 'int'>"
     ]
    }
   ],
   "source": [
    "hist_dict = custom_hist(dfs['Age'], 16)\n",
    "\n",
    "plt.bar(hist_dict.keys(), hist_dict.values())"
   ]
  },
  {
   "cell_type": "code",
   "execution_count": 220,
   "metadata": {},
   "outputs": [
    {
     "data": {
      "text/plain": [
       "<matplotlib.axes._subplots.AxesSubplot at 0x1188c0d50>"
      ]
     },
     "execution_count": 220,
     "metadata": {},
     "output_type": "execute_result"
    },
    {
     "data": {
      "image/png": "[encoded data removed]",
      "text/plain": [
       "<Figure size 432x288 with 1 Axes>"
      ]
     },
     "metadata": {
      "needs_background": "light"
     },
     "output_type": "display_data"
    }
   ],
   "source": [
    "#this version is basically the same as the other graphs but without any sepration for part 2\n",
    "dfs=df.groupby('Sex')\n",
    "df.groupby('Age').count()['Sex'].plot()"
   ]
  },
  {
   "cell_type": "code",
   "execution_count": 241,
   "metadata": {},
   "outputs": [
    {
     "data": {
      "text/plain": [
       "Sex\n",
       "female    AxesSubplot(0.125,0.125;0.775x0.755)\n",
       "male      AxesSubplot(0.125,0.125;0.775x0.755)\n",
       "Name: Age, dtype: object"
      ]
     },
     "execution_count": 241,
     "metadata": {},
     "output_type": "execute_result"
    },
    {
     "data": {
      "image/png": "[encoded data removed]",
      "text/plain": [
       "<Figure size 432x288 with 1 Axes>"
      ]
     },
     "metadata": {
      "needs_background": "light"
     },
     "output_type": "display_data"
    }
   ],
   "source": [
    "# groupdf = newSex.groupby('Sex')\n",
    "# groupdf['Age']\n",
    "\n",
    "\n",
    "# newSex=df['Sex'].dropna().value_counts()\n",
    "# newAge=df['Age'].dropna()\n",
    "\n",
    "# custom_hist(groupdf(['Age']), 16)\n",
    "\n",
    "\n",
    "# plt.hist(df.groupby('Sex')['Age'], 16)\n",
    "\n",
    "df.groupby('Sex')['Age'].hist(bins=16, fc=(0, 0, 1, 0.5))"
   ]
  },
  {
   "cell_type": "code",
   "execution_count": 234,
   "metadata": {},
   "outputs": [
    {
     "data": {
      "text/plain": [
       "Series([], Name: Age, dtype: float64)"
      ]
     },
     "execution_count": 234,
     "metadata": {},
     "output_type": "execute_result"
    }
   ],
   "source": [
    "df[df['Sex'] == 'Male'].groupby('Sex')['Age'].hist(bins=16)"
   ]
  },
  {
   "cell_type": "code",
   "execution_count": null,
   "metadata": {},
   "outputs": [],
   "source": []
  }
 ],
 "metadata": {
  "kernelspec": {
   "display_name": "Python 3",
   "language": "python",
   "name": "python3"
  },
  "language_info": {
   "codemirror_mode": {
    "name": "ipython",
    "version": 3
   },
   "file_extension": ".py",
   "mimetype": "text/x-python",
   "name": "python",
   "nbconvert_exporter": "python",
   "pygments_lexer": "ipython3",
   "version": "3.7.4"
  }
 },
 "nbformat": 4,
 "nbformat_minor": 2
}
