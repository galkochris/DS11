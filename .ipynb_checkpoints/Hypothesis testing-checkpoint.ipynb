{
 "cells": [
  {
   "cell_type": "code",
   "execution_count": 3,
   "metadata": {},
   "outputs": [],
   "source": [
    "import pandas as pd\n",
    "import numpy as np\n",
    "from scipy.stats import norm"
   ]
  },
  {
   "cell_type": "code",
   "execution_count": 26,
   "metadata": {},
   "outputs": [],
   "source": [
    "def accept_reject_null(mu, significant_level, sample_mean, N, sigma):\n",
    "    z_score = (sample_mean - mu)/(sigma/np.sqrt(N))\n",
    "    p_value = 2*norm.sf(np.abs(z_score))\n",
    "    \n",
    "    if p_value < significant_level:\n",
    "        return \"Null is correct: \" + str(p_value)\n",
    "    else:\n",
    "        return \"Null is not correct\""
   ]
  },
  {
   "cell_type": "code",
   "execution_count": 27,
   "metadata": {},
   "outputs": [
    {
     "data": {
      "text/plain": [
       "'Null is correct: 0.0026997960632602026'"
      ]
     },
     "execution_count": 27,
     "metadata": {},
     "output_type": "execute_result"
    }
   ],
   "source": [
    "accept_reject_null(1.2,0.05,1.05,100,0.5)"
   ]
  },
  {
   "cell_type": "code",
   "execution_count": 28,
   "metadata": {},
   "outputs": [
    {
     "ename": "SyntaxError",
     "evalue": "invalid syntax (<ipython-input-28-454f3e826cd6>, line 1)",
     "output_type": "error",
     "traceback": [
      "\u001b[0;36m  File \u001b[0;32m\"<ipython-input-28-454f3e826cd6>\"\u001b[0;36m, line \u001b[0;32m1\u001b[0m\n\u001b[0;31m    def accept_reject_null_std(mu, sig, sample_mean, N, sample_std)\u001b[0m\n\u001b[0m                                                                   ^\u001b[0m\n\u001b[0;31mSyntaxError\u001b[0m\u001b[0;31m:\u001b[0m invalid syntax\n"
     ]
    }
   ],
   "source": [
    "def accept_reject_null_std(mu, sig, sample_mean, N, sample_std):\n",
    "    S = np.std(sample_std,ddof=1)\n",
    "    t_score = (sample_mean - mu)/(S/np.sqrt(N))\n",
    "    \n",
    "    t, p = stats.ttest_lsamp(sample_std, mu)\n",
    "    \n",
    "    "
   ]
  },
  {
   "cell_type": "code",
   "execution_count": null,
   "metadata": {},
   "outputs": [],
   "source": []
  }
 ],
 "metadata": {
  "kernelspec": {
   "display_name": "Python 3",
   "language": "python",
   "name": "python3"
  },
  "language_info": {
   "codemirror_mode": {
    "name": "ipython",
    "version": 3
   },
   "file_extension": ".py",
   "mimetype": "text/x-python",
   "name": "python",
   "nbconvert_exporter": "python",
   "pygments_lexer": "ipython3",
   "version": "3.7.4"
  }
 },
 "nbformat": 4,
 "nbformat_minor": 2
}
