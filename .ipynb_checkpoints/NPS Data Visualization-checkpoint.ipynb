{
 "cells": [
  {
   "cell_type": "markdown",
   "metadata": {
    "slideshow": {
     "slide_type": "slide"
    }
   },
   "source": [
    "# Make School Summer Academy NPS Data Visualization\n",
    "##### By Christian Galkowski\n",
    "\n",
    "\n",
    "\n",
    "The purpose of this examination is to find interesting and actionable trends in data collected during the 2017 Make School Summer Academy, to help boost programming and the quality of education offered at Make School.\n",
    "\n",
    "The Tools used during this examination were Pandas, Mathplotlib, Seaborn, Numpy and Jupyter Notebook - While the data was collected and provided by Make School."
   ]
  },
  {
   "cell_type": "markdown",
   "metadata": {
    "slideshow": {
     "slide_type": "subslide"
    }
   },
   "source": [
    "# Background on NPS\n",
    "\n",
    "NPS is a score calculated by examining the total responses to student feedback forms, meant to generate an examination of total interest in given fields offered during the Summer Academy. In this scenario a 9 or 10  responses are considered Promoter level (that the student would be more likely to promote the school), 7-8 are considered Passive level (the student would not promote or speak down about the school), and 6 or below would be considered Detractor level (that the student would be more likey to speak poor about the school).\n",
    "\n",
    "Using those metric, the goal was to use the data provided to calculate accurate analysis of the total promoter levels of each set of data, in the case each week of the Academy and for each field offered. To calculate the total NPS level the formula below was used:\n",
    "\n",
    "NPS = (Promoters - Detractors)/(Promoters + Passives + Detractors)\n",
    "\n",
    "The formula calculated NPS by taking the total of the Promoters subtracted by the Detractors and dividing that over the total number of respondants. Further analysis was performed based on the total number of respondants to provide a more accurate view of each field, as each field did not haved the same number of respondants."
   ]
  },
  {
   "cell_type": "markdown",
   "metadata": {
    "slideshow": {
     "slide_type": "subslide"
    }
   },
   "source": [
    "# Background on Dataset\n",
    "\n",
    "The data we were tasked with evaluating, was taken via anonymous feedback durk the 8 week long Summer Academy. our data is formatted in such a way, that every evaluation has an ID, Location, Track, Week, Rating, and Scheduling Pace. Thus we are going take that raw data and use it to determine the final evaluations for each column.\n"
   ]
  },
  {
   "cell_type": "markdown",
   "metadata": {
    "slideshow": {
     "slide_type": "fragment"
    }
   },
   "source": [
    "As part of our task to determine if there is any merit to the data provided, we will be apporaching the evaluation of this data with the following questions in mind:\n",
    "\n",
    "-How many more promoters are there than detractors across our 2017 data?\n",
    "\n",
    "-Which track boasts the best promoter-to-detractor ratio?\n",
    "\n",
    "-Does the student experience get better the longer that they are enrolled at the Summer Academy?\n",
    "\n",
    "-Does student satisfaction vary by location?\n",
    "\n",
    "-What are things we could find here that could “help the business”?\n",
    "\n",
    "-What sorts of information does this dataset contain?\n",
    "\n",
    "-What kinds of questions might we be able to answer with this data?\n",
    "\n",
    "-What kinds of questions can’t we answer with this data?\n",
    "\n",
    "-What sorts of information might be actionable?\n",
    "\n",
    "-How can you present your findings in a way that non-technical employees can understand and use to make decisions?\n",
    "\n",
    "More specifically, we will be especially looking into the following three: What information is actionable, What are the total NPS for each week and the entire summer, and what questions might we be able to answer with this data. As those three require us to have a complete understanding of the data, or are directly linked to the total evaluation of the data."
   ]
  },
  {
   "cell_type": "markdown",
   "metadata": {
    "slideshow": {
     "slide_type": "skip"
    }
   },
   "source": [
    "-------------"
   ]
  },
  {
   "cell_type": "markdown",
   "metadata": {
    "slideshow": {
     "slide_type": "slide"
    }
   },
   "source": [
    "# NPS Evaluation"
   ]
  },
  {
   "cell_type": "code",
   "execution_count": 1,
   "metadata": {
    "slideshow": {
     "slide_type": "fragment"
    }
   },
   "outputs": [],
   "source": [
    "import pandas as pd\n",
    "import numpy as np\n",
    "import matplotlib as plt\n",
    "import seaborn as sb"
   ]
  },
  {
   "cell_type": "code",
   "execution_count": 39,
   "metadata": {
    "slideshow": {
     "slide_type": "fragment"
    }
   },
   "outputs": [
    {
     "data": {
      "text/html": [
       "<div>\n",
       "<style scoped>\n",
       "    .dataframe tbody tr th:only-of-type {\n",
       "        vertical-align: middle;\n",
       "    }\n",
       "\n",
       "    .dataframe tbody tr th {\n",
       "        vertical-align: top;\n",
       "    }\n",
       "\n",
       "    .dataframe thead th {\n",
       "        text-align: right;\n",
       "    }\n",
       "</style>\n",
       "<table border=\"1\" class=\"dataframe\">\n",
       "  <thead>\n",
       "    <tr style=\"text-align: right;\">\n",
       "      <th></th>\n",
       "      <th>ID</th>\n",
       "      <th>Location</th>\n",
       "      <th>Track</th>\n",
       "      <th>Week</th>\n",
       "      <th>Rating (Num)</th>\n",
       "      <th>Schedule Pacing</th>\n",
       "    </tr>\n",
       "  </thead>\n",
       "  <tbody>\n",
       "    <tr>\n",
       "      <td>0</td>\n",
       "      <td>134</td>\n",
       "      <td>San Francisco</td>\n",
       "      <td>Apps, Explorer</td>\n",
       "      <td>Week 1</td>\n",
       "      <td>3</td>\n",
       "      <td>Just right</td>\n",
       "    </tr>\n",
       "    <tr>\n",
       "      <td>1</td>\n",
       "      <td>36</td>\n",
       "      <td>Los Angeles</td>\n",
       "      <td>Apps</td>\n",
       "      <td>Week 1</td>\n",
       "      <td>4</td>\n",
       "      <td>A little too fast</td>\n",
       "    </tr>\n",
       "    <tr>\n",
       "      <td>2</td>\n",
       "      <td>117</td>\n",
       "      <td>San Francisco</td>\n",
       "      <td>Games</td>\n",
       "      <td>Week 1</td>\n",
       "      <td>4</td>\n",
       "      <td>Way too slow</td>\n",
       "    </tr>\n",
       "    <tr>\n",
       "      <td>3</td>\n",
       "      <td>253</td>\n",
       "      <td>NaN</td>\n",
       "      <td>NaN</td>\n",
       "      <td>Week 2</td>\n",
       "      <td>4</td>\n",
       "      <td>A little too fast</td>\n",
       "    </tr>\n",
       "    <tr>\n",
       "      <td>4</td>\n",
       "      <td>350</td>\n",
       "      <td>New York City</td>\n",
       "      <td>Apps, Explorer</td>\n",
       "      <td>Week 1</td>\n",
       "      <td>4</td>\n",
       "      <td>Just right</td>\n",
       "    </tr>\n",
       "  </tbody>\n",
       "</table>\n",
       "</div>"
      ],
      "text/plain": [
       "    ID       Location           Track    Week Rating (Num)    Schedule Pacing\n",
       "0  134  San Francisco  Apps, Explorer  Week 1            3         Just right\n",
       "1   36    Los Angeles            Apps  Week 1            4  A little too fast\n",
       "2  117  San Francisco           Games  Week 1            4       Way too slow\n",
       "3  253            NaN             NaN  Week 2            4  A little too fast\n",
       "4  350  New York City  Apps, Explorer  Week 1            4         Just right"
      ]
     },
     "execution_count": 39,
     "metadata": {},
     "output_type": "execute_result"
    }
   ],
   "source": [
    "df = pd.read_csv('Student-Feedback-Surveys-Superview.csv')\n",
    "df.head()"
   ]
  },
  {
   "cell_type": "code",
   "execution_count": 120,
   "metadata": {
    "scrolled": false,
    "slideshow": {
     "slide_type": "subslide"
    }
   },
   "outputs": [
    {
     "data": {
      "text/html": [
       "<div>\n",
       "<style scoped>\n",
       "    .dataframe tbody tr th:only-of-type {\n",
       "        vertical-align: middle;\n",
       "    }\n",
       "\n",
       "    .dataframe tbody tr th {\n",
       "        vertical-align: top;\n",
       "    }\n",
       "\n",
       "    .dataframe thead th {\n",
       "        text-align: right;\n",
       "    }\n",
       "</style>\n",
       "<table border=\"1\" class=\"dataframe\">\n",
       "  <thead>\n",
       "    <tr style=\"text-align: right;\">\n",
       "      <th></th>\n",
       "      <th>ID</th>\n",
       "      <th>Location</th>\n",
       "      <th>Track</th>\n",
       "      <th>Week</th>\n",
       "      <th>Rating (Num)</th>\n",
       "      <th>Schedule Pacing</th>\n",
       "      <th>Rating (Integer)</th>\n",
       "      <th>NPS Score</th>\n",
       "    </tr>\n",
       "  </thead>\n",
       "  <tbody>\n",
       "    <tr>\n",
       "      <td>0</td>\n",
       "      <td>134</td>\n",
       "      <td>San Francisco</td>\n",
       "      <td>Apps, Explorer</td>\n",
       "      <td>Week 1</td>\n",
       "      <td>3</td>\n",
       "      <td>Just right</td>\n",
       "      <td>3</td>\n",
       "      <td>Detractor</td>\n",
       "    </tr>\n",
       "    <tr>\n",
       "      <td>1</td>\n",
       "      <td>36</td>\n",
       "      <td>Los Angeles</td>\n",
       "      <td>Apps</td>\n",
       "      <td>Week 1</td>\n",
       "      <td>4</td>\n",
       "      <td>A little too fast</td>\n",
       "      <td>4</td>\n",
       "      <td>Detractor</td>\n",
       "    </tr>\n",
       "    <tr>\n",
       "      <td>2</td>\n",
       "      <td>117</td>\n",
       "      <td>San Francisco</td>\n",
       "      <td>Games</td>\n",
       "      <td>Week 1</td>\n",
       "      <td>4</td>\n",
       "      <td>Way too slow</td>\n",
       "      <td>4</td>\n",
       "      <td>Detractor</td>\n",
       "    </tr>\n",
       "    <tr>\n",
       "      <td>4</td>\n",
       "      <td>350</td>\n",
       "      <td>New York City</td>\n",
       "      <td>Apps, Explorer</td>\n",
       "      <td>Week 1</td>\n",
       "      <td>4</td>\n",
       "      <td>Just right</td>\n",
       "      <td>4</td>\n",
       "      <td>Detractor</td>\n",
       "    </tr>\n",
       "    <tr>\n",
       "      <td>5</td>\n",
       "      <td>23</td>\n",
       "      <td>Redwood City</td>\n",
       "      <td>Apps</td>\n",
       "      <td>Week 1</td>\n",
       "      <td>5</td>\n",
       "      <td>Just right</td>\n",
       "      <td>5</td>\n",
       "      <td>Detractor</td>\n",
       "    </tr>\n",
       "    <tr>\n",
       "      <td>...</td>\n",
       "      <td>...</td>\n",
       "      <td>...</td>\n",
       "      <td>...</td>\n",
       "      <td>...</td>\n",
       "      <td>...</td>\n",
       "      <td>...</td>\n",
       "      <td>...</td>\n",
       "      <td>...</td>\n",
       "    </tr>\n",
       "    <tr>\n",
       "      <td>1128</td>\n",
       "      <td>1173</td>\n",
       "      <td>Tokyo</td>\n",
       "      <td>Apps</td>\n",
       "      <td>Week 1</td>\n",
       "      <td>7</td>\n",
       "      <td>A little too fast</td>\n",
       "      <td>7</td>\n",
       "      <td>Detractor</td>\n",
       "    </tr>\n",
       "    <tr>\n",
       "      <td>1129</td>\n",
       "      <td>1174</td>\n",
       "      <td>Tokyo</td>\n",
       "      <td>Apps</td>\n",
       "      <td>Week 1</td>\n",
       "      <td>10</td>\n",
       "      <td>Just right</td>\n",
       "      <td>10</td>\n",
       "      <td>Promoter</td>\n",
       "    </tr>\n",
       "    <tr>\n",
       "      <td>1130</td>\n",
       "      <td>1175</td>\n",
       "      <td>Tokyo</td>\n",
       "      <td>Apps</td>\n",
       "      <td>Week 1</td>\n",
       "      <td>10</td>\n",
       "      <td>Just right</td>\n",
       "      <td>10</td>\n",
       "      <td>Promoter</td>\n",
       "    </tr>\n",
       "    <tr>\n",
       "      <td>1131</td>\n",
       "      <td>1176</td>\n",
       "      <td>Tokyo</td>\n",
       "      <td>Apps</td>\n",
       "      <td>Week 1</td>\n",
       "      <td>8</td>\n",
       "      <td>Just right</td>\n",
       "      <td>8</td>\n",
       "      <td>Passive</td>\n",
       "    </tr>\n",
       "    <tr>\n",
       "      <td>1162</td>\n",
       "      <td>1208</td>\n",
       "      <td>Tokyo</td>\n",
       "      <td>Apps</td>\n",
       "      <td>Week 1</td>\n",
       "      <td>10</td>\n",
       "      <td>A little too fast</td>\n",
       "      <td>10</td>\n",
       "      <td>Promoter</td>\n",
       "    </tr>\n",
       "  </tbody>\n",
       "</table>\n",
       "<p>288 rows × 8 columns</p>\n",
       "</div>"
      ],
      "text/plain": [
       "        ID       Location           Track    Week Rating (Num)  \\\n",
       "0      134  San Francisco  Apps, Explorer  Week 1            3   \n",
       "1       36    Los Angeles            Apps  Week 1            4   \n",
       "2      117  San Francisco           Games  Week 1            4   \n",
       "4      350  New York City  Apps, Explorer  Week 1            4   \n",
       "5       23   Redwood City            Apps  Week 1            5   \n",
       "...    ...            ...             ...     ...          ...   \n",
       "1128  1173          Tokyo            Apps  Week 1            7   \n",
       "1129  1174          Tokyo            Apps  Week 1           10   \n",
       "1130  1175          Tokyo            Apps  Week 1           10   \n",
       "1131  1176          Tokyo            Apps  Week 1            8   \n",
       "1162  1208          Tokyo            Apps  Week 1           10   \n",
       "\n",
       "        Schedule Pacing  Rating (Integer)  NPS Score  \n",
       "0            Just right                 3  Detractor  \n",
       "1     A little too fast                 4  Detractor  \n",
       "2          Way too slow                 4  Detractor  \n",
       "4            Just right                 4  Detractor  \n",
       "5            Just right                 5  Detractor  \n",
       "...                 ...               ...        ...  \n",
       "1128  A little too fast                 7  Detractor  \n",
       "1129         Just right                10   Promoter  \n",
       "1130         Just right                10   Promoter  \n",
       "1131         Just right                 8    Passive  \n",
       "1162  A little too fast                10   Promoter  \n",
       "\n",
       "[288 rows x 8 columns]"
      ]
     },
     "execution_count": 120,
     "metadata": {},
     "output_type": "execute_result"
    }
   ],
   "source": [
    "df1 = df[df['Week'] == 'Week 1']\n",
    "df1"
   ]
  },
  {
   "cell_type": "code",
   "execution_count": 121,
   "metadata": {
    "slideshow": {
     "slide_type": "subslide"
    }
   },
   "outputs": [
    {
     "data": {
      "text/html": [
       "<div>\n",
       "<style scoped>\n",
       "    .dataframe tbody tr th:only-of-type {\n",
       "        vertical-align: middle;\n",
       "    }\n",
       "\n",
       "    .dataframe tbody tr th {\n",
       "        vertical-align: top;\n",
       "    }\n",
       "\n",
       "    .dataframe thead th {\n",
       "        text-align: right;\n",
       "    }\n",
       "</style>\n",
       "<table border=\"1\" class=\"dataframe\">\n",
       "  <thead>\n",
       "    <tr style=\"text-align: right;\">\n",
       "      <th></th>\n",
       "      <th>ID</th>\n",
       "      <th>Location</th>\n",
       "      <th>Track</th>\n",
       "      <th>Week</th>\n",
       "      <th>Rating (Num)</th>\n",
       "      <th>Schedule Pacing</th>\n",
       "      <th>Rating (Integer)</th>\n",
       "      <th>NPS Score</th>\n",
       "    </tr>\n",
       "  </thead>\n",
       "  <tbody>\n",
       "    <tr>\n",
       "      <td>3</td>\n",
       "      <td>253</td>\n",
       "      <td>NaN</td>\n",
       "      <td>NaN</td>\n",
       "      <td>Week 2</td>\n",
       "      <td>4</td>\n",
       "      <td>A little too fast</td>\n",
       "      <td>4</td>\n",
       "      <td>Detractor</td>\n",
       "    </tr>\n",
       "    <tr>\n",
       "      <td>10</td>\n",
       "      <td>157</td>\n",
       "      <td>Redwood City</td>\n",
       "      <td>Apps</td>\n",
       "      <td>Week 2</td>\n",
       "      <td>5</td>\n",
       "      <td>Just right</td>\n",
       "      <td>5</td>\n",
       "      <td>Detractor</td>\n",
       "    </tr>\n",
       "    <tr>\n",
       "      <td>11</td>\n",
       "      <td>170</td>\n",
       "      <td>Oakland</td>\n",
       "      <td>Apps</td>\n",
       "      <td>Week 2</td>\n",
       "      <td>5</td>\n",
       "      <td>Just right</td>\n",
       "      <td>5</td>\n",
       "      <td>Detractor</td>\n",
       "    </tr>\n",
       "    <tr>\n",
       "      <td>12</td>\n",
       "      <td>255</td>\n",
       "      <td>San Francisco</td>\n",
       "      <td>Apps</td>\n",
       "      <td>Week 2</td>\n",
       "      <td>5</td>\n",
       "      <td>Way too fast</td>\n",
       "      <td>5</td>\n",
       "      <td>Detractor</td>\n",
       "    </tr>\n",
       "    <tr>\n",
       "      <td>27</td>\n",
       "      <td>193</td>\n",
       "      <td>Santa Clara</td>\n",
       "      <td>Apps</td>\n",
       "      <td>Week 2</td>\n",
       "      <td>6</td>\n",
       "      <td>Just right</td>\n",
       "      <td>6</td>\n",
       "      <td>Detractor</td>\n",
       "    </tr>\n",
       "    <tr>\n",
       "      <td>...</td>\n",
       "      <td>...</td>\n",
       "      <td>...</td>\n",
       "      <td>...</td>\n",
       "      <td>...</td>\n",
       "      <td>...</td>\n",
       "      <td>...</td>\n",
       "      <td>...</td>\n",
       "      <td>...</td>\n",
       "    </tr>\n",
       "    <tr>\n",
       "      <td>1195</td>\n",
       "      <td>1241</td>\n",
       "      <td>Tokyo</td>\n",
       "      <td>Apps</td>\n",
       "      <td>Week 2</td>\n",
       "      <td>5</td>\n",
       "      <td>Just right</td>\n",
       "      <td>5</td>\n",
       "      <td>Detractor</td>\n",
       "    </tr>\n",
       "    <tr>\n",
       "      <td>1196</td>\n",
       "      <td>1242</td>\n",
       "      <td>Tokyo</td>\n",
       "      <td>Apps</td>\n",
       "      <td>Week 2</td>\n",
       "      <td>10</td>\n",
       "      <td>Just right</td>\n",
       "      <td>10</td>\n",
       "      <td>Promoter</td>\n",
       "    </tr>\n",
       "    <tr>\n",
       "      <td>1324</td>\n",
       "      <td>1370</td>\n",
       "      <td>Tokyo</td>\n",
       "      <td>Apps</td>\n",
       "      <td>Week 2</td>\n",
       "      <td>10</td>\n",
       "      <td>A little too slow</td>\n",
       "      <td>10</td>\n",
       "      <td>Promoter</td>\n",
       "    </tr>\n",
       "    <tr>\n",
       "      <td>1330</td>\n",
       "      <td>1376</td>\n",
       "      <td>Tokyo</td>\n",
       "      <td>Apps</td>\n",
       "      <td>Week 2</td>\n",
       "      <td>7</td>\n",
       "      <td>A little too slow</td>\n",
       "      <td>7</td>\n",
       "      <td>Detractor</td>\n",
       "    </tr>\n",
       "    <tr>\n",
       "      <td>1340</td>\n",
       "      <td>1387</td>\n",
       "      <td>NaN</td>\n",
       "      <td>NaN</td>\n",
       "      <td>Week 2</td>\n",
       "      <td>10</td>\n",
       "      <td>Just right</td>\n",
       "      <td>10</td>\n",
       "      <td>Promoter</td>\n",
       "    </tr>\n",
       "  </tbody>\n",
       "</table>\n",
       "<p>276 rows × 8 columns</p>\n",
       "</div>"
      ],
      "text/plain": [
       "        ID       Location Track    Week Rating (Num)    Schedule Pacing  \\\n",
       "3      253            NaN   NaN  Week 2            4  A little too fast   \n",
       "10     157   Redwood City  Apps  Week 2            5         Just right   \n",
       "11     170        Oakland  Apps  Week 2            5         Just right   \n",
       "12     255  San Francisco  Apps  Week 2            5       Way too fast   \n",
       "27     193    Santa Clara  Apps  Week 2            6         Just right   \n",
       "...    ...            ...   ...     ...          ...                ...   \n",
       "1195  1241          Tokyo  Apps  Week 2            5         Just right   \n",
       "1196  1242          Tokyo  Apps  Week 2           10         Just right   \n",
       "1324  1370          Tokyo  Apps  Week 2           10  A little too slow   \n",
       "1330  1376          Tokyo  Apps  Week 2            7  A little too slow   \n",
       "1340  1387            NaN   NaN  Week 2           10         Just right   \n",
       "\n",
       "      Rating (Integer)  NPS Score  \n",
       "3                    4  Detractor  \n",
       "10                   5  Detractor  \n",
       "11                   5  Detractor  \n",
       "12                   5  Detractor  \n",
       "27                   6  Detractor  \n",
       "...                ...        ...  \n",
       "1195                 5  Detractor  \n",
       "1196                10   Promoter  \n",
       "1324                10   Promoter  \n",
       "1330                 7  Detractor  \n",
       "1340                10   Promoter  \n",
       "\n",
       "[276 rows x 8 columns]"
      ]
     },
     "execution_count": 121,
     "metadata": {},
     "output_type": "execute_result"
    }
   ],
   "source": [
    "df2=df[df['Week'] == 'Week 2']\n",
    "df2"
   ]
  },
  {
   "cell_type": "code",
   "execution_count": 122,
   "metadata": {
    "slideshow": {
     "slide_type": "subslide"
    }
   },
   "outputs": [
    {
     "data": {
      "text/html": [
       "<div>\n",
       "<style scoped>\n",
       "    .dataframe tbody tr th:only-of-type {\n",
       "        vertical-align: middle;\n",
       "    }\n",
       "\n",
       "    .dataframe tbody tr th {\n",
       "        vertical-align: top;\n",
       "    }\n",
       "\n",
       "    .dataframe thead th {\n",
       "        text-align: right;\n",
       "    }\n",
       "</style>\n",
       "<table border=\"1\" class=\"dataframe\">\n",
       "  <thead>\n",
       "    <tr style=\"text-align: right;\">\n",
       "      <th></th>\n",
       "      <th>ID</th>\n",
       "      <th>Location</th>\n",
       "      <th>Track</th>\n",
       "      <th>Week</th>\n",
       "      <th>Rating (Num)</th>\n",
       "      <th>Schedule Pacing</th>\n",
       "      <th>Rating (Integer)</th>\n",
       "      <th>NPS Score</th>\n",
       "    </tr>\n",
       "  </thead>\n",
       "  <tbody>\n",
       "    <tr>\n",
       "      <td>15</td>\n",
       "      <td>307</td>\n",
       "      <td>NaN</td>\n",
       "      <td>NaN</td>\n",
       "      <td>Week 3</td>\n",
       "      <td>5</td>\n",
       "      <td>A little too slow</td>\n",
       "      <td>5</td>\n",
       "      <td>Detractor</td>\n",
       "    </tr>\n",
       "    <tr>\n",
       "      <td>16</td>\n",
       "      <td>319</td>\n",
       "      <td>Redwood City</td>\n",
       "      <td>Apps</td>\n",
       "      <td>Week 3</td>\n",
       "      <td>5</td>\n",
       "      <td>Just right</td>\n",
       "      <td>5</td>\n",
       "      <td>Detractor</td>\n",
       "    </tr>\n",
       "    <tr>\n",
       "      <td>18</td>\n",
       "      <td>441</td>\n",
       "      <td>San Francisco</td>\n",
       "      <td>Apps, Explorer</td>\n",
       "      <td>Week 3</td>\n",
       "      <td>5</td>\n",
       "      <td>Just right</td>\n",
       "      <td>5</td>\n",
       "      <td>Detractor</td>\n",
       "    </tr>\n",
       "    <tr>\n",
       "      <td>19</td>\n",
       "      <td>482</td>\n",
       "      <td>Santa Clara</td>\n",
       "      <td>Apps</td>\n",
       "      <td>Week 3</td>\n",
       "      <td>5</td>\n",
       "      <td>Just right</td>\n",
       "      <td>5</td>\n",
       "      <td>Detractor</td>\n",
       "    </tr>\n",
       "    <tr>\n",
       "      <td>32</td>\n",
       "      <td>314</td>\n",
       "      <td>Redwood City</td>\n",
       "      <td>Apps</td>\n",
       "      <td>Week 3</td>\n",
       "      <td>6</td>\n",
       "      <td>A little too slow</td>\n",
       "      <td>6</td>\n",
       "      <td>Detractor</td>\n",
       "    </tr>\n",
       "    <tr>\n",
       "      <td>...</td>\n",
       "      <td>...</td>\n",
       "      <td>...</td>\n",
       "      <td>...</td>\n",
       "      <td>...</td>\n",
       "      <td>...</td>\n",
       "      <td>...</td>\n",
       "      <td>...</td>\n",
       "      <td>...</td>\n",
       "    </tr>\n",
       "    <tr>\n",
       "      <td>1412</td>\n",
       "      <td>1459</td>\n",
       "      <td>Tokyo</td>\n",
       "      <td>Apps</td>\n",
       "      <td>Week 3</td>\n",
       "      <td>9</td>\n",
       "      <td>Just right</td>\n",
       "      <td>9</td>\n",
       "      <td>Passive</td>\n",
       "    </tr>\n",
       "    <tr>\n",
       "      <td>1413</td>\n",
       "      <td>1460</td>\n",
       "      <td>Tokyo</td>\n",
       "      <td>Apps</td>\n",
       "      <td>Week 3</td>\n",
       "      <td>9</td>\n",
       "      <td>A little too fast</td>\n",
       "      <td>9</td>\n",
       "      <td>Passive</td>\n",
       "    </tr>\n",
       "    <tr>\n",
       "      <td>1416</td>\n",
       "      <td>1463</td>\n",
       "      <td>Tokyo</td>\n",
       "      <td>Apps</td>\n",
       "      <td>Week 3</td>\n",
       "      <td>10</td>\n",
       "      <td>Just right</td>\n",
       "      <td>10</td>\n",
       "      <td>Promoter</td>\n",
       "    </tr>\n",
       "    <tr>\n",
       "      <td>1417</td>\n",
       "      <td>1464</td>\n",
       "      <td>Tokyo</td>\n",
       "      <td>Apps</td>\n",
       "      <td>Week 3</td>\n",
       "      <td>8</td>\n",
       "      <td>Just right</td>\n",
       "      <td>8</td>\n",
       "      <td>Passive</td>\n",
       "    </tr>\n",
       "    <tr>\n",
       "      <td>1419</td>\n",
       "      <td>1466</td>\n",
       "      <td>Tokyo</td>\n",
       "      <td>Apps</td>\n",
       "      <td>Week 3</td>\n",
       "      <td>8</td>\n",
       "      <td>Just right</td>\n",
       "      <td>8</td>\n",
       "      <td>Passive</td>\n",
       "    </tr>\n",
       "  </tbody>\n",
       "</table>\n",
       "<p>241 rows × 8 columns</p>\n",
       "</div>"
      ],
      "text/plain": [
       "        ID       Location           Track    Week Rating (Num)  \\\n",
       "15     307            NaN             NaN  Week 3            5   \n",
       "16     319   Redwood City            Apps  Week 3            5   \n",
       "18     441  San Francisco  Apps, Explorer  Week 3            5   \n",
       "19     482    Santa Clara            Apps  Week 3            5   \n",
       "32     314   Redwood City            Apps  Week 3            6   \n",
       "...    ...            ...             ...     ...          ...   \n",
       "1412  1459          Tokyo            Apps  Week 3            9   \n",
       "1413  1460          Tokyo            Apps  Week 3            9   \n",
       "1416  1463          Tokyo            Apps  Week 3           10   \n",
       "1417  1464          Tokyo            Apps  Week 3            8   \n",
       "1419  1466          Tokyo            Apps  Week 3            8   \n",
       "\n",
       "        Schedule Pacing  Rating (Integer)  NPS Score  \n",
       "15    A little too slow                 5  Detractor  \n",
       "16           Just right                 5  Detractor  \n",
       "18           Just right                 5  Detractor  \n",
       "19           Just right                 5  Detractor  \n",
       "32    A little too slow                 6  Detractor  \n",
       "...                 ...               ...        ...  \n",
       "1412         Just right                 9    Passive  \n",
       "1413  A little too fast                 9    Passive  \n",
       "1416         Just right                10   Promoter  \n",
       "1417         Just right                 8    Passive  \n",
       "1419         Just right                 8    Passive  \n",
       "\n",
       "[241 rows x 8 columns]"
      ]
     },
     "execution_count": 122,
     "metadata": {},
     "output_type": "execute_result"
    }
   ],
   "source": [
    "df3=df[df['Week'] == 'Week 3']\n",
    "df3"
   ]
  },
  {
   "cell_type": "code",
   "execution_count": 123,
   "metadata": {
    "slideshow": {
     "slide_type": "subslide"
    }
   },
   "outputs": [
    {
     "data": {
      "text/html": [
       "<div>\n",
       "<style scoped>\n",
       "    .dataframe tbody tr th:only-of-type {\n",
       "        vertical-align: middle;\n",
       "    }\n",
       "\n",
       "    .dataframe tbody tr th {\n",
       "        vertical-align: top;\n",
       "    }\n",
       "\n",
       "    .dataframe thead th {\n",
       "        text-align: right;\n",
       "    }\n",
       "</style>\n",
       "<table border=\"1\" class=\"dataframe\">\n",
       "  <thead>\n",
       "    <tr style=\"text-align: right;\">\n",
       "      <th></th>\n",
       "      <th>ID</th>\n",
       "      <th>Location</th>\n",
       "      <th>Track</th>\n",
       "      <th>Week</th>\n",
       "      <th>Rating (Num)</th>\n",
       "      <th>Schedule Pacing</th>\n",
       "      <th>Rating (Integer)</th>\n",
       "      <th>NPS Score</th>\n",
       "    </tr>\n",
       "  </thead>\n",
       "  <tbody>\n",
       "    <tr>\n",
       "      <td>526</td>\n",
       "      <td>556</td>\n",
       "      <td>Santa Clara</td>\n",
       "      <td>Apps</td>\n",
       "      <td>Week 4</td>\n",
       "      <td>8</td>\n",
       "      <td>Just right</td>\n",
       "      <td>8</td>\n",
       "      <td>Passive</td>\n",
       "    </tr>\n",
       "    <tr>\n",
       "      <td>527</td>\n",
       "      <td>557</td>\n",
       "      <td>Santa Clara</td>\n",
       "      <td>Apps, Explorer</td>\n",
       "      <td>Week 4</td>\n",
       "      <td>8</td>\n",
       "      <td>Just right</td>\n",
       "      <td>8</td>\n",
       "      <td>Passive</td>\n",
       "    </tr>\n",
       "    <tr>\n",
       "      <td>528</td>\n",
       "      <td>558</td>\n",
       "      <td>Santa Clara</td>\n",
       "      <td>Apps, Explorer</td>\n",
       "      <td>Week 4</td>\n",
       "      <td>8</td>\n",
       "      <td>Just right</td>\n",
       "      <td>8</td>\n",
       "      <td>Passive</td>\n",
       "    </tr>\n",
       "    <tr>\n",
       "      <td>529</td>\n",
       "      <td>559</td>\n",
       "      <td>Santa Clara</td>\n",
       "      <td>Apps</td>\n",
       "      <td>Week 4</td>\n",
       "      <td>9</td>\n",
       "      <td>Just right</td>\n",
       "      <td>9</td>\n",
       "      <td>Passive</td>\n",
       "    </tr>\n",
       "    <tr>\n",
       "      <td>530</td>\n",
       "      <td>560</td>\n",
       "      <td>Santa Clara</td>\n",
       "      <td>Apps</td>\n",
       "      <td>Week 4</td>\n",
       "      <td>7</td>\n",
       "      <td>Just right</td>\n",
       "      <td>7</td>\n",
       "      <td>Detractor</td>\n",
       "    </tr>\n",
       "    <tr>\n",
       "      <td>...</td>\n",
       "      <td>...</td>\n",
       "      <td>...</td>\n",
       "      <td>...</td>\n",
       "      <td>...</td>\n",
       "      <td>...</td>\n",
       "      <td>...</td>\n",
       "      <td>...</td>\n",
       "      <td>...</td>\n",
       "    </tr>\n",
       "    <tr>\n",
       "      <td>1147</td>\n",
       "      <td>1192</td>\n",
       "      <td>New York City</td>\n",
       "      <td>Apps</td>\n",
       "      <td>Week 4</td>\n",
       "      <td>10</td>\n",
       "      <td>Just right</td>\n",
       "      <td>10</td>\n",
       "      <td>Promoter</td>\n",
       "    </tr>\n",
       "    <tr>\n",
       "      <td>1157</td>\n",
       "      <td>1202</td>\n",
       "      <td>NaN</td>\n",
       "      <td>NaN</td>\n",
       "      <td>Week 4</td>\n",
       "      <td>7</td>\n",
       "      <td>Way too slow</td>\n",
       "      <td>7</td>\n",
       "      <td>Detractor</td>\n",
       "    </tr>\n",
       "    <tr>\n",
       "      <td>1163</td>\n",
       "      <td>1209</td>\n",
       "      <td>New York City</td>\n",
       "      <td>Apps</td>\n",
       "      <td>Week 4</td>\n",
       "      <td>6</td>\n",
       "      <td>Just right</td>\n",
       "      <td>6</td>\n",
       "      <td>Detractor</td>\n",
       "    </tr>\n",
       "    <tr>\n",
       "      <td>1164</td>\n",
       "      <td>1210</td>\n",
       "      <td>New York City</td>\n",
       "      <td>Games</td>\n",
       "      <td>Week 4</td>\n",
       "      <td>9</td>\n",
       "      <td>Just right</td>\n",
       "      <td>9</td>\n",
       "      <td>Passive</td>\n",
       "    </tr>\n",
       "    <tr>\n",
       "      <td>1223</td>\n",
       "      <td>1269</td>\n",
       "      <td>New York City</td>\n",
       "      <td>Apps</td>\n",
       "      <td>Week 4</td>\n",
       "      <td>7</td>\n",
       "      <td>Just right</td>\n",
       "      <td>7</td>\n",
       "      <td>Detractor</td>\n",
       "    </tr>\n",
       "  </tbody>\n",
       "</table>\n",
       "<p>193 rows × 8 columns</p>\n",
       "</div>"
      ],
      "text/plain": [
       "        ID       Location           Track    Week Rating (Num)  \\\n",
       "526    556    Santa Clara            Apps  Week 4            8   \n",
       "527    557    Santa Clara  Apps, Explorer  Week 4            8   \n",
       "528    558    Santa Clara  Apps, Explorer  Week 4            8   \n",
       "529    559    Santa Clara            Apps  Week 4            9   \n",
       "530    560    Santa Clara            Apps  Week 4            7   \n",
       "...    ...            ...             ...     ...          ...   \n",
       "1147  1192  New York City            Apps  Week 4           10   \n",
       "1157  1202            NaN             NaN  Week 4            7   \n",
       "1163  1209  New York City            Apps  Week 4            6   \n",
       "1164  1210  New York City           Games  Week 4            9   \n",
       "1223  1269  New York City            Apps  Week 4            7   \n",
       "\n",
       "     Schedule Pacing  Rating (Integer)  NPS Score  \n",
       "526       Just right                 8    Passive  \n",
       "527       Just right                 8    Passive  \n",
       "528       Just right                 8    Passive  \n",
       "529       Just right                 9    Passive  \n",
       "530       Just right                 7  Detractor  \n",
       "...              ...               ...        ...  \n",
       "1147      Just right                10   Promoter  \n",
       "1157    Way too slow                 7  Detractor  \n",
       "1163      Just right                 6  Detractor  \n",
       "1164      Just right                 9    Passive  \n",
       "1223      Just right                 7  Detractor  \n",
       "\n",
       "[193 rows x 8 columns]"
      ]
     },
     "execution_count": 123,
     "metadata": {},
     "output_type": "execute_result"
    }
   ],
   "source": [
    "df4=df[df['Week'] == 'Week 4']\n",
    "df4"
   ]
  },
  {
   "cell_type": "code",
   "execution_count": 124,
   "metadata": {
    "slideshow": {
     "slide_type": "subslide"
    }
   },
   "outputs": [
    {
     "data": {
      "text/html": [
       "<div>\n",
       "<style scoped>\n",
       "    .dataframe tbody tr th:only-of-type {\n",
       "        vertical-align: middle;\n",
       "    }\n",
       "\n",
       "    .dataframe tbody tr th {\n",
       "        vertical-align: top;\n",
       "    }\n",
       "\n",
       "    .dataframe thead th {\n",
       "        text-align: right;\n",
       "    }\n",
       "</style>\n",
       "<table border=\"1\" class=\"dataframe\">\n",
       "  <thead>\n",
       "    <tr style=\"text-align: right;\">\n",
       "      <th></th>\n",
       "      <th>ID</th>\n",
       "      <th>Location</th>\n",
       "      <th>Track</th>\n",
       "      <th>Week</th>\n",
       "      <th>Rating (Num)</th>\n",
       "      <th>Schedule Pacing</th>\n",
       "      <th>Rating (Integer)</th>\n",
       "      <th>NPS Score</th>\n",
       "    </tr>\n",
       "  </thead>\n",
       "  <tbody>\n",
       "    <tr>\n",
       "      <td>771</td>\n",
       "      <td>809</td>\n",
       "      <td>Redwood City</td>\n",
       "      <td>Apps</td>\n",
       "      <td>Week 5</td>\n",
       "      <td>7</td>\n",
       "      <td>Just right</td>\n",
       "      <td>7</td>\n",
       "      <td>Detractor</td>\n",
       "    </tr>\n",
       "    <tr>\n",
       "      <td>772</td>\n",
       "      <td>810</td>\n",
       "      <td>San Francisco</td>\n",
       "      <td>VR</td>\n",
       "      <td>Week 5</td>\n",
       "      <td>10</td>\n",
       "      <td>Just right</td>\n",
       "      <td>10</td>\n",
       "      <td>Promoter</td>\n",
       "    </tr>\n",
       "    <tr>\n",
       "      <td>773</td>\n",
       "      <td>811</td>\n",
       "      <td>San Francisco</td>\n",
       "      <td>VR</td>\n",
       "      <td>Week 5</td>\n",
       "      <td>10</td>\n",
       "      <td>Just right</td>\n",
       "      <td>10</td>\n",
       "      <td>Promoter</td>\n",
       "    </tr>\n",
       "    <tr>\n",
       "      <td>774</td>\n",
       "      <td>812</td>\n",
       "      <td>Redwood City</td>\n",
       "      <td>Apps</td>\n",
       "      <td>Week 5</td>\n",
       "      <td>10</td>\n",
       "      <td>Just right</td>\n",
       "      <td>10</td>\n",
       "      <td>Promoter</td>\n",
       "    </tr>\n",
       "    <tr>\n",
       "      <td>775</td>\n",
       "      <td>813</td>\n",
       "      <td>Redwood City</td>\n",
       "      <td>Apps</td>\n",
       "      <td>Week 5</td>\n",
       "      <td>10</td>\n",
       "      <td>Just right</td>\n",
       "      <td>10</td>\n",
       "      <td>Promoter</td>\n",
       "    </tr>\n",
       "    <tr>\n",
       "      <td>...</td>\n",
       "      <td>...</td>\n",
       "      <td>...</td>\n",
       "      <td>...</td>\n",
       "      <td>...</td>\n",
       "      <td>...</td>\n",
       "      <td>...</td>\n",
       "      <td>...</td>\n",
       "      <td>...</td>\n",
       "    </tr>\n",
       "    <tr>\n",
       "      <td>1338</td>\n",
       "      <td>1385</td>\n",
       "      <td>New York City</td>\n",
       "      <td>Apps, Explorer</td>\n",
       "      <td>Week 5</td>\n",
       "      <td>9</td>\n",
       "      <td>Just right</td>\n",
       "      <td>9</td>\n",
       "      <td>Passive</td>\n",
       "    </tr>\n",
       "    <tr>\n",
       "      <td>1339</td>\n",
       "      <td>1386</td>\n",
       "      <td>New York City</td>\n",
       "      <td>Apps</td>\n",
       "      <td>Week 5</td>\n",
       "      <td>6</td>\n",
       "      <td>A little too slow</td>\n",
       "      <td>6</td>\n",
       "      <td>Detractor</td>\n",
       "    </tr>\n",
       "    <tr>\n",
       "      <td>1347</td>\n",
       "      <td>1394</td>\n",
       "      <td>New York City</td>\n",
       "      <td>Apps</td>\n",
       "      <td>Week 5</td>\n",
       "      <td>6</td>\n",
       "      <td>Just right</td>\n",
       "      <td>6</td>\n",
       "      <td>Detractor</td>\n",
       "    </tr>\n",
       "    <tr>\n",
       "      <td>1348</td>\n",
       "      <td>1395</td>\n",
       "      <td>New York City</td>\n",
       "      <td>Apps</td>\n",
       "      <td>Week 5</td>\n",
       "      <td>9</td>\n",
       "      <td>Just right</td>\n",
       "      <td>9</td>\n",
       "      <td>Passive</td>\n",
       "    </tr>\n",
       "    <tr>\n",
       "      <td>1452</td>\n",
       "      <td>1499</td>\n",
       "      <td>New York City</td>\n",
       "      <td>Apps</td>\n",
       "      <td>Week 5</td>\n",
       "      <td>8</td>\n",
       "      <td>Just right</td>\n",
       "      <td>8</td>\n",
       "      <td>Passive</td>\n",
       "    </tr>\n",
       "  </tbody>\n",
       "</table>\n",
       "<p>179 rows × 8 columns</p>\n",
       "</div>"
      ],
      "text/plain": [
       "        ID       Location           Track    Week Rating (Num)  \\\n",
       "771    809   Redwood City            Apps  Week 5            7   \n",
       "772    810  San Francisco              VR  Week 5           10   \n",
       "773    811  San Francisco              VR  Week 5           10   \n",
       "774    812   Redwood City            Apps  Week 5           10   \n",
       "775    813   Redwood City            Apps  Week 5           10   \n",
       "...    ...            ...             ...     ...          ...   \n",
       "1338  1385  New York City  Apps, Explorer  Week 5            9   \n",
       "1339  1386  New York City            Apps  Week 5            6   \n",
       "1347  1394  New York City            Apps  Week 5            6   \n",
       "1348  1395  New York City            Apps  Week 5            9   \n",
       "1452  1499  New York City            Apps  Week 5            8   \n",
       "\n",
       "        Schedule Pacing  Rating (Integer)  NPS Score  \n",
       "771          Just right                 7  Detractor  \n",
       "772          Just right                10   Promoter  \n",
       "773          Just right                10   Promoter  \n",
       "774          Just right                10   Promoter  \n",
       "775          Just right                10   Promoter  \n",
       "...                 ...               ...        ...  \n",
       "1338         Just right                 9    Passive  \n",
       "1339  A little too slow                 6  Detractor  \n",
       "1347         Just right                 6  Detractor  \n",
       "1348         Just right                 9    Passive  \n",
       "1452         Just right                 8    Passive  \n",
       "\n",
       "[179 rows x 8 columns]"
      ]
     },
     "execution_count": 124,
     "metadata": {},
     "output_type": "execute_result"
    }
   ],
   "source": [
    "df5=df[df['Week'] == 'Week 5']\n",
    "df5"
   ]
  },
  {
   "cell_type": "code",
   "execution_count": 125,
   "metadata": {
    "slideshow": {
     "slide_type": "subslide"
    }
   },
   "outputs": [
    {
     "data": {
      "text/html": [
       "<div>\n",
       "<style scoped>\n",
       "    .dataframe tbody tr th:only-of-type {\n",
       "        vertical-align: middle;\n",
       "    }\n",
       "\n",
       "    .dataframe tbody tr th {\n",
       "        vertical-align: top;\n",
       "    }\n",
       "\n",
       "    .dataframe thead th {\n",
       "        text-align: right;\n",
       "    }\n",
       "</style>\n",
       "<table border=\"1\" class=\"dataframe\">\n",
       "  <thead>\n",
       "    <tr style=\"text-align: right;\">\n",
       "      <th></th>\n",
       "      <th>ID</th>\n",
       "      <th>Location</th>\n",
       "      <th>Track</th>\n",
       "      <th>Week</th>\n",
       "      <th>Rating (Num)</th>\n",
       "      <th>Schedule Pacing</th>\n",
       "      <th>Rating (Integer)</th>\n",
       "      <th>NPS Score</th>\n",
       "    </tr>\n",
       "  </thead>\n",
       "  <tbody>\n",
       "    <tr>\n",
       "      <td>995</td>\n",
       "      <td>1038</td>\n",
       "      <td>Redwood City</td>\n",
       "      <td>Apps</td>\n",
       "      <td>Week 6</td>\n",
       "      <td>7</td>\n",
       "      <td>Just right</td>\n",
       "      <td>7</td>\n",
       "      <td>Detractor</td>\n",
       "    </tr>\n",
       "    <tr>\n",
       "      <td>996</td>\n",
       "      <td>1039</td>\n",
       "      <td>San Francisco</td>\n",
       "      <td>VR</td>\n",
       "      <td>Week 6</td>\n",
       "      <td>9</td>\n",
       "      <td>Just right</td>\n",
       "      <td>9</td>\n",
       "      <td>Passive</td>\n",
       "    </tr>\n",
       "    <tr>\n",
       "      <td>997</td>\n",
       "      <td>1040</td>\n",
       "      <td>San Francisco</td>\n",
       "      <td>VR</td>\n",
       "      <td>Week 6</td>\n",
       "      <td>10</td>\n",
       "      <td>Just right</td>\n",
       "      <td>10</td>\n",
       "      <td>Promoter</td>\n",
       "    </tr>\n",
       "    <tr>\n",
       "      <td>1001</td>\n",
       "      <td>1044</td>\n",
       "      <td>San Francisco</td>\n",
       "      <td>VR</td>\n",
       "      <td>Week 6</td>\n",
       "      <td>10</td>\n",
       "      <td>Just right</td>\n",
       "      <td>10</td>\n",
       "      <td>Promoter</td>\n",
       "    </tr>\n",
       "    <tr>\n",
       "      <td>1002</td>\n",
       "      <td>1045</td>\n",
       "      <td>Redwood City</td>\n",
       "      <td>Apps</td>\n",
       "      <td>Week 6</td>\n",
       "      <td>7</td>\n",
       "      <td>Just right</td>\n",
       "      <td>7</td>\n",
       "      <td>Detractor</td>\n",
       "    </tr>\n",
       "    <tr>\n",
       "      <td>...</td>\n",
       "      <td>...</td>\n",
       "      <td>...</td>\n",
       "      <td>...</td>\n",
       "      <td>...</td>\n",
       "      <td>...</td>\n",
       "      <td>...</td>\n",
       "      <td>...</td>\n",
       "      <td>...</td>\n",
       "    </tr>\n",
       "    <tr>\n",
       "      <td>1406</td>\n",
       "      <td>1453</td>\n",
       "      <td>New York City</td>\n",
       "      <td>Apps, Explorer</td>\n",
       "      <td>Week 6</td>\n",
       "      <td>10</td>\n",
       "      <td>Just right</td>\n",
       "      <td>10</td>\n",
       "      <td>Promoter</td>\n",
       "    </tr>\n",
       "    <tr>\n",
       "      <td>1408</td>\n",
       "      <td>1455</td>\n",
       "      <td>New York City</td>\n",
       "      <td>Apps</td>\n",
       "      <td>Week 6</td>\n",
       "      <td>8</td>\n",
       "      <td>Just right</td>\n",
       "      <td>8</td>\n",
       "      <td>Passive</td>\n",
       "    </tr>\n",
       "    <tr>\n",
       "      <td>1409</td>\n",
       "      <td>1456</td>\n",
       "      <td>New York City</td>\n",
       "      <td>Apps</td>\n",
       "      <td>Week 6</td>\n",
       "      <td>10</td>\n",
       "      <td>Just right</td>\n",
       "      <td>10</td>\n",
       "      <td>Promoter</td>\n",
       "    </tr>\n",
       "    <tr>\n",
       "      <td>1410</td>\n",
       "      <td>1457</td>\n",
       "      <td>NaN</td>\n",
       "      <td>NaN</td>\n",
       "      <td>Week 6</td>\n",
       "      <td>10</td>\n",
       "      <td>Just right</td>\n",
       "      <td>10</td>\n",
       "      <td>Promoter</td>\n",
       "    </tr>\n",
       "    <tr>\n",
       "      <td>1414</td>\n",
       "      <td>1461</td>\n",
       "      <td>New York City</td>\n",
       "      <td>Apps</td>\n",
       "      <td>Week 6</td>\n",
       "      <td>10</td>\n",
       "      <td>Just right</td>\n",
       "      <td>10</td>\n",
       "      <td>Promoter</td>\n",
       "    </tr>\n",
       "  </tbody>\n",
       "</table>\n",
       "<p>144 rows × 8 columns</p>\n",
       "</div>"
      ],
      "text/plain": [
       "        ID       Location           Track    Week Rating (Num)  \\\n",
       "995   1038   Redwood City            Apps  Week 6            7   \n",
       "996   1039  San Francisco              VR  Week 6            9   \n",
       "997   1040  San Francisco              VR  Week 6           10   \n",
       "1001  1044  San Francisco              VR  Week 6           10   \n",
       "1002  1045   Redwood City            Apps  Week 6            7   \n",
       "...    ...            ...             ...     ...          ...   \n",
       "1406  1453  New York City  Apps, Explorer  Week 6           10   \n",
       "1408  1455  New York City            Apps  Week 6            8   \n",
       "1409  1456  New York City            Apps  Week 6           10   \n",
       "1410  1457            NaN             NaN  Week 6           10   \n",
       "1414  1461  New York City            Apps  Week 6           10   \n",
       "\n",
       "     Schedule Pacing  Rating (Integer)  NPS Score  \n",
       "995       Just right                 7  Detractor  \n",
       "996       Just right                 9    Passive  \n",
       "997       Just right                10   Promoter  \n",
       "1001      Just right                10   Promoter  \n",
       "1002      Just right                 7  Detractor  \n",
       "...              ...               ...        ...  \n",
       "1406      Just right                10   Promoter  \n",
       "1408      Just right                 8    Passive  \n",
       "1409      Just right                10   Promoter  \n",
       "1410      Just right                10   Promoter  \n",
       "1414      Just right                10   Promoter  \n",
       "\n",
       "[144 rows x 8 columns]"
      ]
     },
     "execution_count": 125,
     "metadata": {},
     "output_type": "execute_result"
    }
   ],
   "source": [
    "df6=df[df['Week'] == 'Week 6']\n",
    "df6"
   ]
  },
  {
   "cell_type": "code",
   "execution_count": 127,
   "metadata": {
    "slideshow": {
     "slide_type": "subslide"
    }
   },
   "outputs": [
    {
     "data": {
      "text/html": [
       "<div>\n",
       "<style scoped>\n",
       "    .dataframe tbody tr th:only-of-type {\n",
       "        vertical-align: middle;\n",
       "    }\n",
       "\n",
       "    .dataframe tbody tr th {\n",
       "        vertical-align: top;\n",
       "    }\n",
       "\n",
       "    .dataframe thead th {\n",
       "        text-align: right;\n",
       "    }\n",
       "</style>\n",
       "<table border=\"1\" class=\"dataframe\">\n",
       "  <thead>\n",
       "    <tr style=\"text-align: right;\">\n",
       "      <th></th>\n",
       "      <th>ID</th>\n",
       "      <th>Location</th>\n",
       "      <th>Track</th>\n",
       "      <th>Week</th>\n",
       "      <th>Rating (Num)</th>\n",
       "      <th>Schedule Pacing</th>\n",
       "      <th>Rating (Integer)</th>\n",
       "      <th>NPS Score</th>\n",
       "    </tr>\n",
       "  </thead>\n",
       "  <tbody>\n",
       "    <tr>\n",
       "      <td>6</td>\n",
       "      <td>28</td>\n",
       "      <td>Los Angeles</td>\n",
       "      <td>Apps</td>\n",
       "      <td>Week 7</td>\n",
       "      <td>5</td>\n",
       "      <td>Just right</td>\n",
       "      <td>5</td>\n",
       "      <td>Detractor</td>\n",
       "    </tr>\n",
       "    <tr>\n",
       "      <td>1197</td>\n",
       "      <td>1243</td>\n",
       "      <td>San Francisco</td>\n",
       "      <td>VR</td>\n",
       "      <td>Week 7</td>\n",
       "      <td>7</td>\n",
       "      <td>A little too fast</td>\n",
       "      <td>7</td>\n",
       "      <td>Detractor</td>\n",
       "    </tr>\n",
       "    <tr>\n",
       "      <td>1198</td>\n",
       "      <td>1244</td>\n",
       "      <td>San Francisco</td>\n",
       "      <td>VR</td>\n",
       "      <td>Week 7</td>\n",
       "      <td>10</td>\n",
       "      <td>Just right</td>\n",
       "      <td>10</td>\n",
       "      <td>Promoter</td>\n",
       "    </tr>\n",
       "    <tr>\n",
       "      <td>1199</td>\n",
       "      <td>1245</td>\n",
       "      <td>San Francisco</td>\n",
       "      <td>VR</td>\n",
       "      <td>Week 7</td>\n",
       "      <td>10</td>\n",
       "      <td>A little too fast</td>\n",
       "      <td>10</td>\n",
       "      <td>Promoter</td>\n",
       "    </tr>\n",
       "    <tr>\n",
       "      <td>1200</td>\n",
       "      <td>1246</td>\n",
       "      <td>San Francisco</td>\n",
       "      <td>VR</td>\n",
       "      <td>Week 7</td>\n",
       "      <td>8</td>\n",
       "      <td>Just right</td>\n",
       "      <td>8</td>\n",
       "      <td>Passive</td>\n",
       "    </tr>\n",
       "    <tr>\n",
       "      <td>...</td>\n",
       "      <td>...</td>\n",
       "      <td>...</td>\n",
       "      <td>...</td>\n",
       "      <td>...</td>\n",
       "      <td>...</td>\n",
       "      <td>...</td>\n",
       "      <td>...</td>\n",
       "      <td>...</td>\n",
       "    </tr>\n",
       "    <tr>\n",
       "      <td>1447</td>\n",
       "      <td>1494</td>\n",
       "      <td>New York City</td>\n",
       "      <td>Games, Explorer</td>\n",
       "      <td>Week 7</td>\n",
       "      <td>10</td>\n",
       "      <td>Just right</td>\n",
       "      <td>10</td>\n",
       "      <td>Promoter</td>\n",
       "    </tr>\n",
       "    <tr>\n",
       "      <td>1448</td>\n",
       "      <td>1495</td>\n",
       "      <td>New York City</td>\n",
       "      <td>Apps, Explorer</td>\n",
       "      <td>Week 7</td>\n",
       "      <td>10</td>\n",
       "      <td>Just right</td>\n",
       "      <td>10</td>\n",
       "      <td>Promoter</td>\n",
       "    </tr>\n",
       "    <tr>\n",
       "      <td>1449</td>\n",
       "      <td>1496</td>\n",
       "      <td>New York City</td>\n",
       "      <td>Apps, Explorer</td>\n",
       "      <td>Week 7</td>\n",
       "      <td>8</td>\n",
       "      <td>Just right</td>\n",
       "      <td>8</td>\n",
       "      <td>Passive</td>\n",
       "    </tr>\n",
       "    <tr>\n",
       "      <td>1450</td>\n",
       "      <td>1497</td>\n",
       "      <td>New York City</td>\n",
       "      <td>Apps</td>\n",
       "      <td>Week 7</td>\n",
       "      <td>10</td>\n",
       "      <td>Just right</td>\n",
       "      <td>10</td>\n",
       "      <td>Promoter</td>\n",
       "    </tr>\n",
       "    <tr>\n",
       "      <td>1451</td>\n",
       "      <td>1498</td>\n",
       "      <td>New York City</td>\n",
       "      <td>Apps, Explorer</td>\n",
       "      <td>Week 7</td>\n",
       "      <td>1</td>\n",
       "      <td>A little too slow</td>\n",
       "      <td>1</td>\n",
       "      <td>Detractor</td>\n",
       "    </tr>\n",
       "  </tbody>\n",
       "</table>\n",
       "<p>120 rows × 8 columns</p>\n",
       "</div>"
      ],
      "text/plain": [
       "        ID       Location            Track    Week Rating (Num)  \\\n",
       "6       28    Los Angeles             Apps  Week 7            5   \n",
       "1197  1243  San Francisco               VR  Week 7            7   \n",
       "1198  1244  San Francisco               VR  Week 7           10   \n",
       "1199  1245  San Francisco               VR  Week 7           10   \n",
       "1200  1246  San Francisco               VR  Week 7            8   \n",
       "...    ...            ...              ...     ...          ...   \n",
       "1447  1494  New York City  Games, Explorer  Week 7           10   \n",
       "1448  1495  New York City   Apps, Explorer  Week 7           10   \n",
       "1449  1496  New York City   Apps, Explorer  Week 7            8   \n",
       "1450  1497  New York City             Apps  Week 7           10   \n",
       "1451  1498  New York City   Apps, Explorer  Week 7            1   \n",
       "\n",
       "        Schedule Pacing  Rating (Integer)  NPS Score  \n",
       "6            Just right                 5  Detractor  \n",
       "1197  A little too fast                 7  Detractor  \n",
       "1198         Just right                10   Promoter  \n",
       "1199  A little too fast                10   Promoter  \n",
       "1200         Just right                 8    Passive  \n",
       "...                 ...               ...        ...  \n",
       "1447         Just right                10   Promoter  \n",
       "1448         Just right                10   Promoter  \n",
       "1449         Just right                 8    Passive  \n",
       "1450         Just right                10   Promoter  \n",
       "1451  A little too slow                 1  Detractor  \n",
       "\n",
       "[120 rows x 8 columns]"
      ]
     },
     "execution_count": 127,
     "metadata": {},
     "output_type": "execute_result"
    }
   ],
   "source": [
    "df7=df[df['Week'] == 'Week 7']\n",
    "df7"
   ]
  },
  {
   "cell_type": "code",
   "execution_count": 128,
   "metadata": {
    "slideshow": {
     "slide_type": "subslide"
    }
   },
   "outputs": [
    {
     "data": {
      "text/html": [
       "<div>\n",
       "<style scoped>\n",
       "    .dataframe tbody tr th:only-of-type {\n",
       "        vertical-align: middle;\n",
       "    }\n",
       "\n",
       "    .dataframe tbody tr th {\n",
       "        vertical-align: top;\n",
       "    }\n",
       "\n",
       "    .dataframe thead th {\n",
       "        text-align: right;\n",
       "    }\n",
       "</style>\n",
       "<table border=\"1\" class=\"dataframe\">\n",
       "  <thead>\n",
       "    <tr style=\"text-align: right;\">\n",
       "      <th></th>\n",
       "      <th>ID</th>\n",
       "      <th>Location</th>\n",
       "      <th>Track</th>\n",
       "      <th>Week</th>\n",
       "      <th>Rating (Num)</th>\n",
       "      <th>Schedule Pacing</th>\n",
       "      <th>Rating (Integer)</th>\n",
       "      <th>NPS Score</th>\n",
       "    </tr>\n",
       "  </thead>\n",
       "  <tbody>\n",
       "    <tr>\n",
       "      <td>1354</td>\n",
       "      <td>1401</td>\n",
       "      <td>San Francisco</td>\n",
       "      <td>VR</td>\n",
       "      <td>Week 8</td>\n",
       "      <td>10</td>\n",
       "      <td>Just right</td>\n",
       "      <td>10</td>\n",
       "      <td>Promoter</td>\n",
       "    </tr>\n",
       "    <tr>\n",
       "      <td>1395</td>\n",
       "      <td>1442</td>\n",
       "      <td>Los Angeles</td>\n",
       "      <td>Games</td>\n",
       "      <td>Week 8</td>\n",
       "      <td>7</td>\n",
       "      <td>Way too fast</td>\n",
       "      <td>7</td>\n",
       "      <td>Detractor</td>\n",
       "    </tr>\n",
       "    <tr>\n",
       "      <td>1396</td>\n",
       "      <td>1443</td>\n",
       "      <td>Los Angeles</td>\n",
       "      <td>Apps</td>\n",
       "      <td>Week 8</td>\n",
       "      <td>9</td>\n",
       "      <td>Just right</td>\n",
       "      <td>9</td>\n",
       "      <td>Passive</td>\n",
       "    </tr>\n",
       "    <tr>\n",
       "      <td>1397</td>\n",
       "      <td>1444</td>\n",
       "      <td>Los Angeles</td>\n",
       "      <td>Games</td>\n",
       "      <td>Week 8</td>\n",
       "      <td>9</td>\n",
       "      <td>Just right</td>\n",
       "      <td>9</td>\n",
       "      <td>Passive</td>\n",
       "    </tr>\n",
       "    <tr>\n",
       "      <td>1398</td>\n",
       "      <td>1445</td>\n",
       "      <td>Los Angeles</td>\n",
       "      <td>Apps</td>\n",
       "      <td>Week 8</td>\n",
       "      <td>10</td>\n",
       "      <td>Just right</td>\n",
       "      <td>10</td>\n",
       "      <td>Promoter</td>\n",
       "    </tr>\n",
       "    <tr>\n",
       "      <td>1399</td>\n",
       "      <td>1446</td>\n",
       "      <td>Los Angeles</td>\n",
       "      <td>Games</td>\n",
       "      <td>Week 8</td>\n",
       "      <td>9</td>\n",
       "      <td>A little too slow</td>\n",
       "      <td>9</td>\n",
       "      <td>Passive</td>\n",
       "    </tr>\n",
       "    <tr>\n",
       "      <td>1400</td>\n",
       "      <td>1447</td>\n",
       "      <td>Los Angeles</td>\n",
       "      <td>Apps</td>\n",
       "      <td>Week 8</td>\n",
       "      <td>10</td>\n",
       "      <td>Just right</td>\n",
       "      <td>10</td>\n",
       "      <td>Promoter</td>\n",
       "    </tr>\n",
       "    <tr>\n",
       "      <td>1415</td>\n",
       "      <td>1462</td>\n",
       "      <td>Los Angeles</td>\n",
       "      <td>Apps</td>\n",
       "      <td>Week 8</td>\n",
       "      <td>10</td>\n",
       "      <td>A little too fast</td>\n",
       "      <td>10</td>\n",
       "      <td>Promoter</td>\n",
       "    </tr>\n",
       "    <tr>\n",
       "      <td>1418</td>\n",
       "      <td>1465</td>\n",
       "      <td>Los Angeles</td>\n",
       "      <td>Games</td>\n",
       "      <td>Week 8</td>\n",
       "      <td>8</td>\n",
       "      <td>A little too slow</td>\n",
       "      <td>8</td>\n",
       "      <td>Passive</td>\n",
       "    </tr>\n",
       "  </tbody>\n",
       "</table>\n",
       "</div>"
      ],
      "text/plain": [
       "        ID       Location  Track    Week Rating (Num)    Schedule Pacing  \\\n",
       "1354  1401  San Francisco     VR  Week 8           10         Just right   \n",
       "1395  1442    Los Angeles  Games  Week 8            7       Way too fast   \n",
       "1396  1443    Los Angeles   Apps  Week 8            9         Just right   \n",
       "1397  1444    Los Angeles  Games  Week 8            9         Just right   \n",
       "1398  1445    Los Angeles   Apps  Week 8           10         Just right   \n",
       "1399  1446    Los Angeles  Games  Week 8            9  A little too slow   \n",
       "1400  1447    Los Angeles   Apps  Week 8           10         Just right   \n",
       "1415  1462    Los Angeles   Apps  Week 8           10  A little too fast   \n",
       "1418  1465    Los Angeles  Games  Week 8            8  A little too slow   \n",
       "\n",
       "      Rating (Integer)  NPS Score  \n",
       "1354                10   Promoter  \n",
       "1395                 7  Detractor  \n",
       "1396                 9    Passive  \n",
       "1397                 9    Passive  \n",
       "1398                10   Promoter  \n",
       "1399                 9    Passive  \n",
       "1400                10   Promoter  \n",
       "1415                10   Promoter  \n",
       "1418                 8    Passive  "
      ]
     },
     "execution_count": 128,
     "metadata": {},
     "output_type": "execute_result"
    }
   ],
   "source": [
    "df8=df[df['Week'] == 'Week 8']\n",
    "df8"
   ]
  },
  {
   "cell_type": "markdown",
   "metadata": {
    "slideshow": {
     "slide_type": "slide"
    }
   },
   "source": [
    "# Total NPS\n",
    "\n",
    "to calculate the total NPS we need to have the rating values as integers we can manipulate, that we then can use to create a new column called Score Evaluation to label what type of score they gave, Promoter, Passive or Detractor"
   ]
  },
  {
   "cell_type": "markdown",
   "metadata": {
    "slideshow": {
     "slide_type": "fragment"
    }
   },
   "source": [
    "In the data, we find 3 entries that prevent us from performing the necessary calculations:"
   ]
  },
  {
   "cell_type": "code",
   "execution_count": 76,
   "metadata": {
    "slideshow": {
     "slide_type": "fragment"
    }
   },
   "outputs": [
    {
     "data": {
      "text/html": [
       "<div>\n",
       "<style scoped>\n",
       "    .dataframe tbody tr th:only-of-type {\n",
       "        vertical-align: middle;\n",
       "    }\n",
       "\n",
       "    .dataframe tbody tr th {\n",
       "        vertical-align: top;\n",
       "    }\n",
       "\n",
       "    .dataframe thead th {\n",
       "        text-align: right;\n",
       "    }\n",
       "</style>\n",
       "<table border=\"1\" class=\"dataframe\">\n",
       "  <thead>\n",
       "    <tr style=\"text-align: right;\">\n",
       "      <th></th>\n",
       "      <th>ID</th>\n",
       "      <th>Location</th>\n",
       "      <th>Track</th>\n",
       "      <th>Week</th>\n",
       "      <th>Rating (Num)</th>\n",
       "      <th>Schedule Pacing</th>\n",
       "    </tr>\n",
       "  </thead>\n",
       "  <tbody>\n",
       "    <tr>\n",
       "      <td>1310</td>\n",
       "      <td>1356</td>\n",
       "      <td>NaN</td>\n",
       "      <td>NaN</td>\n",
       "      <td>Week 2</td>\n",
       "      <td>#ERROR!</td>\n",
       "      <td>NaN</td>\n",
       "    </tr>\n",
       "    <tr>\n",
       "      <td>1322</td>\n",
       "      <td>1368</td>\n",
       "      <td>NaN</td>\n",
       "      <td>NaN</td>\n",
       "      <td>Week 3</td>\n",
       "      <td>#ERROR!</td>\n",
       "      <td>NaN</td>\n",
       "    </tr>\n",
       "    <tr>\n",
       "      <td>1411</td>\n",
       "      <td>1458</td>\n",
       "      <td>NaN</td>\n",
       "      <td>NaN</td>\n",
       "      <td>Week 3</td>\n",
       "      <td>#ERROR!</td>\n",
       "      <td>NaN</td>\n",
       "    </tr>\n",
       "  </tbody>\n",
       "</table>\n",
       "</div>"
      ],
      "text/plain": [
       "        ID Location Track    Week Rating (Num) Schedule Pacing\n",
       "1310  1356      NaN   NaN  Week 2      #ERROR!             NaN\n",
       "1322  1368      NaN   NaN  Week 3      #ERROR!             NaN\n",
       "1411  1458      NaN   NaN  Week 3      #ERROR!             NaN"
      ]
     },
     "execution_count": 76,
     "metadata": {},
     "output_type": "execute_result"
    }
   ],
   "source": [
    "df[df['Rating (Num)'] == '#ERROR!']"
   ]
  },
  {
   "cell_type": "markdown",
   "metadata": {
    "slideshow": {
     "slide_type": "slide"
    }
   },
   "source": [
    "Thus using, drop we are able to remove them and being our calculations:"
   ]
  },
  {
   "cell_type": "code",
   "execution_count": 91,
   "metadata": {
    "slideshow": {
     "slide_type": "fragment"
    }
   },
   "outputs": [],
   "source": [
    "df = df.drop([1310, 1322, 1411])"
   ]
  },
  {
   "cell_type": "code",
   "execution_count": 92,
   "metadata": {
    "slideshow": {
     "slide_type": "fragment"
    }
   },
   "outputs": [
    {
     "data": {
      "text/html": [
       "<div>\n",
       "<style scoped>\n",
       "    .dataframe tbody tr th:only-of-type {\n",
       "        vertical-align: middle;\n",
       "    }\n",
       "\n",
       "    .dataframe tbody tr th {\n",
       "        vertical-align: top;\n",
       "    }\n",
       "\n",
       "    .dataframe thead th {\n",
       "        text-align: right;\n",
       "    }\n",
       "</style>\n",
       "<table border=\"1\" class=\"dataframe\">\n",
       "  <thead>\n",
       "    <tr style=\"text-align: right;\">\n",
       "      <th></th>\n",
       "      <th>ID</th>\n",
       "      <th>Location</th>\n",
       "      <th>Track</th>\n",
       "      <th>Week</th>\n",
       "      <th>Rating (Num)</th>\n",
       "      <th>Schedule Pacing</th>\n",
       "    </tr>\n",
       "  </thead>\n",
       "  <tbody>\n",
       "    <tr>\n",
       "      <td>0</td>\n",
       "      <td>134</td>\n",
       "      <td>San Francisco</td>\n",
       "      <td>Apps, Explorer</td>\n",
       "      <td>Week 1</td>\n",
       "      <td>3</td>\n",
       "      <td>Just right</td>\n",
       "    </tr>\n",
       "    <tr>\n",
       "      <td>1</td>\n",
       "      <td>36</td>\n",
       "      <td>Los Angeles</td>\n",
       "      <td>Apps</td>\n",
       "      <td>Week 1</td>\n",
       "      <td>4</td>\n",
       "      <td>A little too fast</td>\n",
       "    </tr>\n",
       "    <tr>\n",
       "      <td>2</td>\n",
       "      <td>117</td>\n",
       "      <td>San Francisco</td>\n",
       "      <td>Games</td>\n",
       "      <td>Week 1</td>\n",
       "      <td>4</td>\n",
       "      <td>Way too slow</td>\n",
       "    </tr>\n",
       "    <tr>\n",
       "      <td>3</td>\n",
       "      <td>253</td>\n",
       "      <td>NaN</td>\n",
       "      <td>NaN</td>\n",
       "      <td>Week 2</td>\n",
       "      <td>4</td>\n",
       "      <td>A little too fast</td>\n",
       "    </tr>\n",
       "    <tr>\n",
       "      <td>4</td>\n",
       "      <td>350</td>\n",
       "      <td>New York City</td>\n",
       "      <td>Apps, Explorer</td>\n",
       "      <td>Week 1</td>\n",
       "      <td>4</td>\n",
       "      <td>Just right</td>\n",
       "    </tr>\n",
       "    <tr>\n",
       "      <td>...</td>\n",
       "      <td>...</td>\n",
       "      <td>...</td>\n",
       "      <td>...</td>\n",
       "      <td>...</td>\n",
       "      <td>...</td>\n",
       "      <td>...</td>\n",
       "    </tr>\n",
       "    <tr>\n",
       "      <td>1448</td>\n",
       "      <td>1495</td>\n",
       "      <td>New York City</td>\n",
       "      <td>Apps, Explorer</td>\n",
       "      <td>Week 7</td>\n",
       "      <td>10</td>\n",
       "      <td>Just right</td>\n",
       "    </tr>\n",
       "    <tr>\n",
       "      <td>1449</td>\n",
       "      <td>1496</td>\n",
       "      <td>New York City</td>\n",
       "      <td>Apps, Explorer</td>\n",
       "      <td>Week 7</td>\n",
       "      <td>8</td>\n",
       "      <td>Just right</td>\n",
       "    </tr>\n",
       "    <tr>\n",
       "      <td>1450</td>\n",
       "      <td>1497</td>\n",
       "      <td>New York City</td>\n",
       "      <td>Apps</td>\n",
       "      <td>Week 7</td>\n",
       "      <td>10</td>\n",
       "      <td>Just right</td>\n",
       "    </tr>\n",
       "    <tr>\n",
       "      <td>1451</td>\n",
       "      <td>1498</td>\n",
       "      <td>New York City</td>\n",
       "      <td>Apps, Explorer</td>\n",
       "      <td>Week 7</td>\n",
       "      <td>1</td>\n",
       "      <td>A little too slow</td>\n",
       "    </tr>\n",
       "    <tr>\n",
       "      <td>1452</td>\n",
       "      <td>1499</td>\n",
       "      <td>New York City</td>\n",
       "      <td>Apps</td>\n",
       "      <td>Week 5</td>\n",
       "      <td>8</td>\n",
       "      <td>Just right</td>\n",
       "    </tr>\n",
       "  </tbody>\n",
       "</table>\n",
       "<p>1450 rows × 6 columns</p>\n",
       "</div>"
      ],
      "text/plain": [
       "        ID       Location           Track    Week Rating (Num)  \\\n",
       "0      134  San Francisco  Apps, Explorer  Week 1            3   \n",
       "1       36    Los Angeles            Apps  Week 1            4   \n",
       "2      117  San Francisco           Games  Week 1            4   \n",
       "3      253            NaN             NaN  Week 2            4   \n",
       "4      350  New York City  Apps, Explorer  Week 1            4   \n",
       "...    ...            ...             ...     ...          ...   \n",
       "1448  1495  New York City  Apps, Explorer  Week 7           10   \n",
       "1449  1496  New York City  Apps, Explorer  Week 7            8   \n",
       "1450  1497  New York City            Apps  Week 7           10   \n",
       "1451  1498  New York City  Apps, Explorer  Week 7            1   \n",
       "1452  1499  New York City            Apps  Week 5            8   \n",
       "\n",
       "        Schedule Pacing  \n",
       "0            Just right  \n",
       "1     A little too fast  \n",
       "2          Way too slow  \n",
       "3     A little too fast  \n",
       "4            Just right  \n",
       "...                 ...  \n",
       "1448         Just right  \n",
       "1449         Just right  \n",
       "1450         Just right  \n",
       "1451  A little too slow  \n",
       "1452         Just right  \n",
       "\n",
       "[1450 rows x 6 columns]"
      ]
     },
     "execution_count": 92,
     "metadata": {},
     "output_type": "execute_result"
    }
   ],
   "source": [
    "df"
   ]
  },
  {
   "cell_type": "code",
   "execution_count": 93,
   "metadata": {
    "slideshow": {
     "slide_type": "fragment"
    }
   },
   "outputs": [
    {
     "data": {
      "text/html": [
       "<div>\n",
       "<style scoped>\n",
       "    .dataframe tbody tr th:only-of-type {\n",
       "        vertical-align: middle;\n",
       "    }\n",
       "\n",
       "    .dataframe tbody tr th {\n",
       "        vertical-align: top;\n",
       "    }\n",
       "\n",
       "    .dataframe thead th {\n",
       "        text-align: right;\n",
       "    }\n",
       "</style>\n",
       "<table border=\"1\" class=\"dataframe\">\n",
       "  <thead>\n",
       "    <tr style=\"text-align: right;\">\n",
       "      <th></th>\n",
       "      <th>ID</th>\n",
       "      <th>Location</th>\n",
       "      <th>Track</th>\n",
       "      <th>Week</th>\n",
       "      <th>Rating (Num)</th>\n",
       "      <th>Schedule Pacing</th>\n",
       "    </tr>\n",
       "  </thead>\n",
       "  <tbody>\n",
       "  </tbody>\n",
       "</table>\n",
       "</div>"
      ],
      "text/plain": [
       "Empty DataFrame\n",
       "Columns: [ID, Location, Track, Week, Rating (Num), Schedule Pacing]\n",
       "Index: []"
      ]
     },
     "execution_count": 93,
     "metadata": {},
     "output_type": "execute_result"
    }
   ],
   "source": [
    "df[df['Rating (Num)'] == '#ERROR!']"
   ]
  },
  {
   "cell_type": "markdown",
   "metadata": {
    "slideshow": {
     "slide_type": "slide"
    }
   },
   "source": [
    "# Converting Ratings into Integers"
   ]
  },
  {
   "cell_type": "code",
   "execution_count": 94,
   "metadata": {
    "slideshow": {
     "slide_type": "fragment"
    }
   },
   "outputs": [],
   "source": [
    "df['Rating (Integer)'] = df['Rating (Num)'].apply(lambda x: int(x))"
   ]
  },
  {
   "cell_type": "code",
   "execution_count": 95,
   "metadata": {
    "slideshow": {
     "slide_type": "fragment"
    }
   },
   "outputs": [
    {
     "data": {
      "text/html": [
       "<div>\n",
       "<style scoped>\n",
       "    .dataframe tbody tr th:only-of-type {\n",
       "        vertical-align: middle;\n",
       "    }\n",
       "\n",
       "    .dataframe tbody tr th {\n",
       "        vertical-align: top;\n",
       "    }\n",
       "\n",
       "    .dataframe thead th {\n",
       "        text-align: right;\n",
       "    }\n",
       "</style>\n",
       "<table border=\"1\" class=\"dataframe\">\n",
       "  <thead>\n",
       "    <tr style=\"text-align: right;\">\n",
       "      <th></th>\n",
       "      <th>ID</th>\n",
       "      <th>Location</th>\n",
       "      <th>Track</th>\n",
       "      <th>Week</th>\n",
       "      <th>Rating (Num)</th>\n",
       "      <th>Schedule Pacing</th>\n",
       "      <th>Rating (Integer)</th>\n",
       "    </tr>\n",
       "  </thead>\n",
       "  <tbody>\n",
       "    <tr>\n",
       "      <td>0</td>\n",
       "      <td>134</td>\n",
       "      <td>San Francisco</td>\n",
       "      <td>Apps, Explorer</td>\n",
       "      <td>Week 1</td>\n",
       "      <td>3</td>\n",
       "      <td>Just right</td>\n",
       "      <td>3</td>\n",
       "    </tr>\n",
       "    <tr>\n",
       "      <td>1</td>\n",
       "      <td>36</td>\n",
       "      <td>Los Angeles</td>\n",
       "      <td>Apps</td>\n",
       "      <td>Week 1</td>\n",
       "      <td>4</td>\n",
       "      <td>A little too fast</td>\n",
       "      <td>4</td>\n",
       "    </tr>\n",
       "    <tr>\n",
       "      <td>2</td>\n",
       "      <td>117</td>\n",
       "      <td>San Francisco</td>\n",
       "      <td>Games</td>\n",
       "      <td>Week 1</td>\n",
       "      <td>4</td>\n",
       "      <td>Way too slow</td>\n",
       "      <td>4</td>\n",
       "    </tr>\n",
       "    <tr>\n",
       "      <td>3</td>\n",
       "      <td>253</td>\n",
       "      <td>NaN</td>\n",
       "      <td>NaN</td>\n",
       "      <td>Week 2</td>\n",
       "      <td>4</td>\n",
       "      <td>A little too fast</td>\n",
       "      <td>4</td>\n",
       "    </tr>\n",
       "    <tr>\n",
       "      <td>4</td>\n",
       "      <td>350</td>\n",
       "      <td>New York City</td>\n",
       "      <td>Apps, Explorer</td>\n",
       "      <td>Week 1</td>\n",
       "      <td>4</td>\n",
       "      <td>Just right</td>\n",
       "      <td>4</td>\n",
       "    </tr>\n",
       "    <tr>\n",
       "      <td>...</td>\n",
       "      <td>...</td>\n",
       "      <td>...</td>\n",
       "      <td>...</td>\n",
       "      <td>...</td>\n",
       "      <td>...</td>\n",
       "      <td>...</td>\n",
       "      <td>...</td>\n",
       "    </tr>\n",
       "    <tr>\n",
       "      <td>1448</td>\n",
       "      <td>1495</td>\n",
       "      <td>New York City</td>\n",
       "      <td>Apps, Explorer</td>\n",
       "      <td>Week 7</td>\n",
       "      <td>10</td>\n",
       "      <td>Just right</td>\n",
       "      <td>10</td>\n",
       "    </tr>\n",
       "    <tr>\n",
       "      <td>1449</td>\n",
       "      <td>1496</td>\n",
       "      <td>New York City</td>\n",
       "      <td>Apps, Explorer</td>\n",
       "      <td>Week 7</td>\n",
       "      <td>8</td>\n",
       "      <td>Just right</td>\n",
       "      <td>8</td>\n",
       "    </tr>\n",
       "    <tr>\n",
       "      <td>1450</td>\n",
       "      <td>1497</td>\n",
       "      <td>New York City</td>\n",
       "      <td>Apps</td>\n",
       "      <td>Week 7</td>\n",
       "      <td>10</td>\n",
       "      <td>Just right</td>\n",
       "      <td>10</td>\n",
       "    </tr>\n",
       "    <tr>\n",
       "      <td>1451</td>\n",
       "      <td>1498</td>\n",
       "      <td>New York City</td>\n",
       "      <td>Apps, Explorer</td>\n",
       "      <td>Week 7</td>\n",
       "      <td>1</td>\n",
       "      <td>A little too slow</td>\n",
       "      <td>1</td>\n",
       "    </tr>\n",
       "    <tr>\n",
       "      <td>1452</td>\n",
       "      <td>1499</td>\n",
       "      <td>New York City</td>\n",
       "      <td>Apps</td>\n",
       "      <td>Week 5</td>\n",
       "      <td>8</td>\n",
       "      <td>Just right</td>\n",
       "      <td>8</td>\n",
       "    </tr>\n",
       "  </tbody>\n",
       "</table>\n",
       "<p>1450 rows × 7 columns</p>\n",
       "</div>"
      ],
      "text/plain": [
       "        ID       Location           Track    Week Rating (Num)  \\\n",
       "0      134  San Francisco  Apps, Explorer  Week 1            3   \n",
       "1       36    Los Angeles            Apps  Week 1            4   \n",
       "2      117  San Francisco           Games  Week 1            4   \n",
       "3      253            NaN             NaN  Week 2            4   \n",
       "4      350  New York City  Apps, Explorer  Week 1            4   \n",
       "...    ...            ...             ...     ...          ...   \n",
       "1448  1495  New York City  Apps, Explorer  Week 7           10   \n",
       "1449  1496  New York City  Apps, Explorer  Week 7            8   \n",
       "1450  1497  New York City            Apps  Week 7           10   \n",
       "1451  1498  New York City  Apps, Explorer  Week 7            1   \n",
       "1452  1499  New York City            Apps  Week 5            8   \n",
       "\n",
       "        Schedule Pacing  Rating (Integer)  \n",
       "0            Just right                 3  \n",
       "1     A little too fast                 4  \n",
       "2          Way too slow                 4  \n",
       "3     A little too fast                 4  \n",
       "4            Just right                 4  \n",
       "...                 ...               ...  \n",
       "1448         Just right                10  \n",
       "1449         Just right                 8  \n",
       "1450         Just right                10  \n",
       "1451  A little too slow                 1  \n",
       "1452         Just right                 8  \n",
       "\n",
       "[1450 rows x 7 columns]"
      ]
     },
     "execution_count": 95,
     "metadata": {},
     "output_type": "execute_result"
    }
   ],
   "source": [
    "df"
   ]
  },
  {
   "cell_type": "markdown",
   "metadata": {
    "slideshow": {
     "slide_type": "subslide"
    }
   },
   "source": [
    "Once we are able to remove the unneccesary values, we create our function to sort through our data and assing promoter values:"
   ]
  },
  {
   "cell_type": "code",
   "execution_count": 100,
   "metadata": {
    "slideshow": {
     "slide_type": "fragment"
    }
   },
   "outputs": [],
   "source": [
    "def NPS_Score(rating):\n",
    "    if rating > 9:\n",
    "        return 'Promoter'\n",
    "    elif rating > 7:\n",
    "        return 'Passive'\n",
    "    else:\n",
    "        return 'Detractor'"
   ]
  },
  {
   "cell_type": "code",
   "execution_count": 101,
   "metadata": {
    "slideshow": {
     "slide_type": "fragment"
    }
   },
   "outputs": [],
   "source": [
    "df['NPS Score'] = df['Rating (Integer)'].apply(NPS_Score)"
   ]
  },
  {
   "cell_type": "code",
   "execution_count": 102,
   "metadata": {
    "slideshow": {
     "slide_type": "subslide"
    }
   },
   "outputs": [
    {
     "data": {
      "text/html": [
       "<div>\n",
       "<style scoped>\n",
       "    .dataframe tbody tr th:only-of-type {\n",
       "        vertical-align: middle;\n",
       "    }\n",
       "\n",
       "    .dataframe tbody tr th {\n",
       "        vertical-align: top;\n",
       "    }\n",
       "\n",
       "    .dataframe thead th {\n",
       "        text-align: right;\n",
       "    }\n",
       "</style>\n",
       "<table border=\"1\" class=\"dataframe\">\n",
       "  <thead>\n",
       "    <tr style=\"text-align: right;\">\n",
       "      <th></th>\n",
       "      <th>ID</th>\n",
       "      <th>Location</th>\n",
       "      <th>Track</th>\n",
       "      <th>Week</th>\n",
       "      <th>Rating (Num)</th>\n",
       "      <th>Schedule Pacing</th>\n",
       "      <th>Rating (Integer)</th>\n",
       "      <th>NPS Score</th>\n",
       "    </tr>\n",
       "  </thead>\n",
       "  <tbody>\n",
       "    <tr>\n",
       "      <td>0</td>\n",
       "      <td>134</td>\n",
       "      <td>San Francisco</td>\n",
       "      <td>Apps, Explorer</td>\n",
       "      <td>Week 1</td>\n",
       "      <td>3</td>\n",
       "      <td>Just right</td>\n",
       "      <td>3</td>\n",
       "      <td>Detractor</td>\n",
       "    </tr>\n",
       "    <tr>\n",
       "      <td>1</td>\n",
       "      <td>36</td>\n",
       "      <td>Los Angeles</td>\n",
       "      <td>Apps</td>\n",
       "      <td>Week 1</td>\n",
       "      <td>4</td>\n",
       "      <td>A little too fast</td>\n",
       "      <td>4</td>\n",
       "      <td>Detractor</td>\n",
       "    </tr>\n",
       "    <tr>\n",
       "      <td>2</td>\n",
       "      <td>117</td>\n",
       "      <td>San Francisco</td>\n",
       "      <td>Games</td>\n",
       "      <td>Week 1</td>\n",
       "      <td>4</td>\n",
       "      <td>Way too slow</td>\n",
       "      <td>4</td>\n",
       "      <td>Detractor</td>\n",
       "    </tr>\n",
       "    <tr>\n",
       "      <td>3</td>\n",
       "      <td>253</td>\n",
       "      <td>NaN</td>\n",
       "      <td>NaN</td>\n",
       "      <td>Week 2</td>\n",
       "      <td>4</td>\n",
       "      <td>A little too fast</td>\n",
       "      <td>4</td>\n",
       "      <td>Detractor</td>\n",
       "    </tr>\n",
       "    <tr>\n",
       "      <td>4</td>\n",
       "      <td>350</td>\n",
       "      <td>New York City</td>\n",
       "      <td>Apps, Explorer</td>\n",
       "      <td>Week 1</td>\n",
       "      <td>4</td>\n",
       "      <td>Just right</td>\n",
       "      <td>4</td>\n",
       "      <td>Detractor</td>\n",
       "    </tr>\n",
       "    <tr>\n",
       "      <td>...</td>\n",
       "      <td>...</td>\n",
       "      <td>...</td>\n",
       "      <td>...</td>\n",
       "      <td>...</td>\n",
       "      <td>...</td>\n",
       "      <td>...</td>\n",
       "      <td>...</td>\n",
       "      <td>...</td>\n",
       "    </tr>\n",
       "    <tr>\n",
       "      <td>1448</td>\n",
       "      <td>1495</td>\n",
       "      <td>New York City</td>\n",
       "      <td>Apps, Explorer</td>\n",
       "      <td>Week 7</td>\n",
       "      <td>10</td>\n",
       "      <td>Just right</td>\n",
       "      <td>10</td>\n",
       "      <td>Promoter</td>\n",
       "    </tr>\n",
       "    <tr>\n",
       "      <td>1449</td>\n",
       "      <td>1496</td>\n",
       "      <td>New York City</td>\n",
       "      <td>Apps, Explorer</td>\n",
       "      <td>Week 7</td>\n",
       "      <td>8</td>\n",
       "      <td>Just right</td>\n",
       "      <td>8</td>\n",
       "      <td>Passive</td>\n",
       "    </tr>\n",
       "    <tr>\n",
       "      <td>1450</td>\n",
       "      <td>1497</td>\n",
       "      <td>New York City</td>\n",
       "      <td>Apps</td>\n",
       "      <td>Week 7</td>\n",
       "      <td>10</td>\n",
       "      <td>Just right</td>\n",
       "      <td>10</td>\n",
       "      <td>Promoter</td>\n",
       "    </tr>\n",
       "    <tr>\n",
       "      <td>1451</td>\n",
       "      <td>1498</td>\n",
       "      <td>New York City</td>\n",
       "      <td>Apps, Explorer</td>\n",
       "      <td>Week 7</td>\n",
       "      <td>1</td>\n",
       "      <td>A little too slow</td>\n",
       "      <td>1</td>\n",
       "      <td>Detractor</td>\n",
       "    </tr>\n",
       "    <tr>\n",
       "      <td>1452</td>\n",
       "      <td>1499</td>\n",
       "      <td>New York City</td>\n",
       "      <td>Apps</td>\n",
       "      <td>Week 5</td>\n",
       "      <td>8</td>\n",
       "      <td>Just right</td>\n",
       "      <td>8</td>\n",
       "      <td>Passive</td>\n",
       "    </tr>\n",
       "  </tbody>\n",
       "</table>\n",
       "<p>1450 rows × 8 columns</p>\n",
       "</div>"
      ],
      "text/plain": [
       "        ID       Location           Track    Week Rating (Num)  \\\n",
       "0      134  San Francisco  Apps, Explorer  Week 1            3   \n",
       "1       36    Los Angeles            Apps  Week 1            4   \n",
       "2      117  San Francisco           Games  Week 1            4   \n",
       "3      253            NaN             NaN  Week 2            4   \n",
       "4      350  New York City  Apps, Explorer  Week 1            4   \n",
       "...    ...            ...             ...     ...          ...   \n",
       "1448  1495  New York City  Apps, Explorer  Week 7           10   \n",
       "1449  1496  New York City  Apps, Explorer  Week 7            8   \n",
       "1450  1497  New York City            Apps  Week 7           10   \n",
       "1451  1498  New York City  Apps, Explorer  Week 7            1   \n",
       "1452  1499  New York City            Apps  Week 5            8   \n",
       "\n",
       "        Schedule Pacing  Rating (Integer)  NPS Score  \n",
       "0            Just right                 3  Detractor  \n",
       "1     A little too fast                 4  Detractor  \n",
       "2          Way too slow                 4  Detractor  \n",
       "3     A little too fast                 4  Detractor  \n",
       "4            Just right                 4  Detractor  \n",
       "...                 ...               ...        ...  \n",
       "1448         Just right                10   Promoter  \n",
       "1449         Just right                 8    Passive  \n",
       "1450         Just right                10   Promoter  \n",
       "1451  A little too slow                 1  Detractor  \n",
       "1452         Just right                 8    Passive  \n",
       "\n",
       "[1450 rows x 8 columns]"
      ]
     },
     "execution_count": 102,
     "metadata": {},
     "output_type": "execute_result"
    }
   ],
   "source": [
    "df"
   ]
  },
  {
   "cell_type": "code",
   "execution_count": 106,
   "metadata": {
    "slideshow": {
     "slide_type": "slide"
    }
   },
   "outputs": [
    {
     "data": {
      "text/plain": [
       "Passive      776\n",
       "Promoter     376\n",
       "Detractor    298\n",
       "Name: NPS Score, dtype: int64"
      ]
     },
     "execution_count": 106,
     "metadata": {},
     "output_type": "execute_result"
    }
   ],
   "source": [
    "df['NPS Score'].value_counts()"
   ]
  },
  {
   "cell_type": "markdown",
   "metadata": {
    "slideshow": {
     "slide_type": "fragment"
    }
   },
   "source": [
    "As Total NPS is caluclated by Promoter-Detractor/total, we can determine that the NPS of the 2017 Summer Academy review set is:"
   ]
  },
  {
   "cell_type": "code",
   "execution_count": 111,
   "metadata": {
    "slideshow": {
     "slide_type": "fragment"
    }
   },
   "outputs": [
    {
     "data": {
      "text/plain": [
       "5.379310344827586"
      ]
     },
     "execution_count": 111,
     "metadata": {},
     "output_type": "execute_result"
    }
   ],
   "source": [
    "((376-298)/1450)*100"
   ]
  },
  {
   "cell_type": "markdown",
   "metadata": {
    "slideshow": {
     "slide_type": "fragment"
    }
   },
   "source": [
    "Given this Evaluation, we find that our Net Promoter Score is 5.4%, assuming all scores submitted are genuine, regardless of other missing data. (some id's with scores, lack location, track, or other answers)"
   ]
  },
  {
   "cell_type": "markdown",
   "metadata": {
    "slideshow": {
     "slide_type": "slide"
    }
   },
   "source": [
    "# Additional Insight\n",
    "\n",
    "Now that our main task is complete, we can further examine the dataset. We will be taking a closer look at each weeks and each tracks NPS, to further delinate what works and where we can improve, giving us actionable information in the future."
   ]
  },
  {
   "cell_type": "markdown",
   "metadata": {
    "slideshow": {
     "slide_type": "slide"
    }
   },
   "source": [
    "# NPS by Weekly Evaluations"
   ]
  },
  {
   "cell_type": "code",
   "execution_count": 143,
   "metadata": {
    "slideshow": {
     "slide_type": "fragment"
    }
   },
   "outputs": [],
   "source": [
    "def NPS(Promo, Detract, Passive):\n",
    "    return (Promo - Detract)/(Promo+Detract+Passive)"
   ]
  },
  {
   "cell_type": "code",
   "execution_count": 144,
   "metadata": {
    "slideshow": {
     "slide_type": "subslide"
    }
   },
   "outputs": [
    {
     "data": {
      "text/plain": [
       "Passive      152\n",
       "Promoter      68\n",
       "Detractor     68\n",
       "Name: NPS Score, dtype: int64"
      ]
     },
     "execution_count": 144,
     "metadata": {},
     "output_type": "execute_result"
    }
   ],
   "source": [
    "df1['NPS Score'].value_counts()"
   ]
  },
  {
   "cell_type": "code",
   "execution_count": 145,
   "metadata": {
    "slideshow": {
     "slide_type": "fragment"
    }
   },
   "outputs": [
    {
     "data": {
      "text/plain": [
       "0.0"
      ]
     },
     "execution_count": 145,
     "metadata": {},
     "output_type": "execute_result"
    }
   ],
   "source": [
    "NPS(68, 68, 152)"
   ]
  },
  {
   "cell_type": "code",
   "execution_count": 132,
   "metadata": {
    "slideshow": {
     "slide_type": "subslide"
    }
   },
   "outputs": [
    {
     "data": {
      "text/plain": [
       "Passive      158\n",
       "Promoter      61\n",
       "Detractor     57\n",
       "Name: NPS Score, dtype: int64"
      ]
     },
     "execution_count": 132,
     "metadata": {},
     "output_type": "execute_result"
    }
   ],
   "source": [
    "df2['NPS Score'].value_counts()"
   ]
  },
  {
   "cell_type": "code",
   "execution_count": 146,
   "metadata": {
    "slideshow": {
     "slide_type": "fragment"
    }
   },
   "outputs": [
    {
     "data": {
      "text/plain": [
       "0.014492753623188406"
      ]
     },
     "execution_count": 146,
     "metadata": {},
     "output_type": "execute_result"
    }
   ],
   "source": [
    "NPS(61,57,158)"
   ]
  },
  {
   "cell_type": "code",
   "execution_count": 133,
   "metadata": {
    "slideshow": {
     "slide_type": "subslide"
    }
   },
   "outputs": [
    {
     "data": {
      "text/plain": [
       "Passive      133\n",
       "Promoter      66\n",
       "Detractor     42\n",
       "Name: NPS Score, dtype: int64"
      ]
     },
     "execution_count": 133,
     "metadata": {},
     "output_type": "execute_result"
    }
   ],
   "source": [
    "df3['NPS Score'].value_counts()"
   ]
  },
  {
   "cell_type": "code",
   "execution_count": 147,
   "metadata": {
    "slideshow": {
     "slide_type": "fragment"
    }
   },
   "outputs": [
    {
     "data": {
      "text/plain": [
       "0.0995850622406639"
      ]
     },
     "execution_count": 147,
     "metadata": {},
     "output_type": "execute_result"
    }
   ],
   "source": [
    "NPS(66,42,133)"
   ]
  },
  {
   "cell_type": "code",
   "execution_count": 134,
   "metadata": {
    "slideshow": {
     "slide_type": "subslide"
    }
   },
   "outputs": [
    {
     "data": {
      "text/plain": [
       "Passive      104\n",
       "Promoter      45\n",
       "Detractor     44\n",
       "Name: NPS Score, dtype: int64"
      ]
     },
     "execution_count": 134,
     "metadata": {},
     "output_type": "execute_result"
    }
   ],
   "source": [
    "df4['NPS Score'].value_counts()"
   ]
  },
  {
   "cell_type": "code",
   "execution_count": 148,
   "metadata": {
    "slideshow": {
     "slide_type": "fragment"
    }
   },
   "outputs": [
    {
     "data": {
      "text/plain": [
       "0.0051813471502590676"
      ]
     },
     "execution_count": 148,
     "metadata": {},
     "output_type": "execute_result"
    }
   ],
   "source": [
    "NPS(45,44,104)"
   ]
  },
  {
   "cell_type": "code",
   "execution_count": 135,
   "metadata": {
    "slideshow": {
     "slide_type": "subslide"
    }
   },
   "outputs": [
    {
     "data": {
      "text/plain": [
       "Passive      90\n",
       "Promoter     52\n",
       "Detractor    37\n",
       "Name: NPS Score, dtype: int64"
      ]
     },
     "execution_count": 135,
     "metadata": {},
     "output_type": "execute_result"
    }
   ],
   "source": [
    "df5['NPS Score'].value_counts()"
   ]
  },
  {
   "cell_type": "code",
   "execution_count": 153,
   "metadata": {
    "slideshow": {
     "slide_type": "fragment"
    }
   },
   "outputs": [
    {
     "data": {
      "text/plain": [
       "0.08379888268156424"
      ]
     },
     "execution_count": 153,
     "metadata": {},
     "output_type": "execute_result"
    }
   ],
   "source": [
    "NPS(52,37,90)"
   ]
  },
  {
   "cell_type": "code",
   "execution_count": 136,
   "metadata": {
    "slideshow": {
     "slide_type": "subslide"
    }
   },
   "outputs": [
    {
     "data": {
      "text/plain": [
       "Passive      75\n",
       "Promoter     43\n",
       "Detractor    26\n",
       "Name: NPS Score, dtype: int64"
      ]
     },
     "execution_count": 136,
     "metadata": {},
     "output_type": "execute_result"
    }
   ],
   "source": [
    "df6['NPS Score'].value_counts()"
   ]
  },
  {
   "cell_type": "code",
   "execution_count": 150,
   "metadata": {
    "slideshow": {
     "slide_type": "fragment"
    }
   },
   "outputs": [
    {
     "data": {
      "text/plain": [
       "0.11805555555555555"
      ]
     },
     "execution_count": 150,
     "metadata": {},
     "output_type": "execute_result"
    }
   ],
   "source": [
    "NPS(43,26,75)"
   ]
  },
  {
   "cell_type": "code",
   "execution_count": 137,
   "metadata": {
    "slideshow": {
     "slide_type": "subslide"
    }
   },
   "outputs": [
    {
     "data": {
      "text/plain": [
       "Passive      60\n",
       "Promoter     37\n",
       "Detractor    23\n",
       "Name: NPS Score, dtype: int64"
      ]
     },
     "execution_count": 137,
     "metadata": {},
     "output_type": "execute_result"
    }
   ],
   "source": [
    "df7['NPS Score'].value_counts()"
   ]
  },
  {
   "cell_type": "code",
   "execution_count": 151,
   "metadata": {
    "slideshow": {
     "slide_type": "fragment"
    }
   },
   "outputs": [
    {
     "data": {
      "text/plain": [
       "0.11666666666666667"
      ]
     },
     "execution_count": 151,
     "metadata": {},
     "output_type": "execute_result"
    }
   ],
   "source": [
    "NPS(37,23,60)"
   ]
  },
  {
   "cell_type": "code",
   "execution_count": 138,
   "metadata": {
    "slideshow": {
     "slide_type": "subslide"
    }
   },
   "outputs": [
    {
     "data": {
      "text/plain": [
       "Promoter     4\n",
       "Passive      4\n",
       "Detractor    1\n",
       "Name: NPS Score, dtype: int64"
      ]
     },
     "execution_count": 138,
     "metadata": {},
     "output_type": "execute_result"
    }
   ],
   "source": [
    "df8['NPS Score'].value_counts()"
   ]
  },
  {
   "cell_type": "code",
   "execution_count": 152,
   "metadata": {
    "slideshow": {
     "slide_type": "fragment"
    }
   },
   "outputs": [
    {
     "data": {
      "text/plain": [
       "0.3333333333333333"
      ]
     },
     "execution_count": 152,
     "metadata": {},
     "output_type": "execute_result"
    }
   ],
   "source": [
    "NPS(4,1,4)"
   ]
  },
  {
   "cell_type": "markdown",
   "metadata": {
    "slideshow": {
     "slide_type": "slide"
    }
   },
   "source": [
    "# Data Observations\n",
    "\n",
    "From our calculations we can derive a few things from the data:\n",
    "\n",
    "First-The best responses were at the end of the term, in the later weeks, however total responses were lower during this time too\n",
    "\n",
    "Second-Overall, responses were on an incline, outside of a small dip in week 4, returning to higher than previous week 3 levels by week 6\n",
    "\n",
    "Third-Total participation in reviews dropped steadily over time, and drastically from week 7 to 8"
   ]
  },
  {
   "cell_type": "markdown",
   "metadata": {
    "slideshow": {
     "slide_type": "subslide"
    }
   },
   "source": [
    "\n",
    "# Inferences\n",
    "\n",
    "From this data there are a few inferences that can be made with significant actionable note:\n",
    "\n",
    "First-Generally, particiaption and promoter status improved as time went on; Seemingly as students began to learn more, they felt more confident in their abilities and thus rated the classes higher\n",
    "\n",
    "Second-Genearlly, participation fell; Either due to repitition of surveys, leaving the program, or those who performed poorly defaulting to not participating in review, participation over the course of the program dropped, with week 8's 9 person review being likely to a few speculative causes (late survey distribution, last week so most students disregarded the survey, or poor communication of the survey)\n",
    "\n",
    "Third-Overall the program was a success as a whole"
   ]
  },
  {
   "cell_type": "markdown",
   "metadata": {
    "slideshow": {
     "slide_type": "slide"
    }
   },
   "source": [
    "# NPS By Overall Track Evaluations"
   ]
  },
  {
   "cell_type": "markdown",
   "metadata": {
    "slideshow": {
     "slide_type": "slide"
    }
   },
   "source": [
    "## Total Response by Track"
   ]
  },
  {
   "cell_type": "code",
   "execution_count": 155,
   "metadata": {
    "slideshow": {
     "slide_type": "fragment"
    }
   },
   "outputs": [
    {
     "data": {
      "text/plain": [
       "Apps               871\n",
       "Apps, Explorer     224\n",
       "Games              208\n",
       "VR                  60\n",
       "Games, Explorer     43\n",
       "Name: Track, dtype: int64"
      ]
     },
     "execution_count": 155,
     "metadata": {},
     "output_type": "execute_result"
    }
   ],
   "source": [
    "df['Track'].value_counts()"
   ]
  },
  {
   "cell_type": "code",
   "execution_count": 156,
   "metadata": {
    "slideshow": {
     "slide_type": "subslide"
    }
   },
   "outputs": [
    {
     "data": {
      "text/plain": [
       "Passive      478\n",
       "Promoter     204\n",
       "Detractor    189\n",
       "Name: NPS Score, dtype: int64"
      ]
     },
     "execution_count": 156,
     "metadata": {},
     "output_type": "execute_result"
    }
   ],
   "source": [
    "#Apps Track\n",
    "df[df['Track'] == 'Apps']['NPS Score'].value_counts()"
   ]
  },
  {
   "cell_type": "code",
   "execution_count": 165,
   "metadata": {
    "slideshow": {
     "slide_type": "fragment"
    }
   },
   "outputs": [
    {
     "data": {
      "text/plain": [
       "0.01722158438576349"
      ]
     },
     "execution_count": 165,
     "metadata": {},
     "output_type": "execute_result"
    }
   ],
   "source": [
    "NPS(204, 189, 478)"
   ]
  },
  {
   "cell_type": "code",
   "execution_count": 161,
   "metadata": {
    "slideshow": {
     "slide_type": "subslide"
    }
   },
   "outputs": [
    {
     "data": {
      "text/plain": [
       "Passive      113\n",
       "Detractor     60\n",
       "Promoter      51\n",
       "Name: NPS Score, dtype: int64"
      ]
     },
     "execution_count": 161,
     "metadata": {},
     "output_type": "execute_result"
    }
   ],
   "source": [
    "#Apps Explorer Track\n",
    "df[df['Track'] == 'Apps, Explorer']['NPS Score'].value_counts()"
   ]
  },
  {
   "cell_type": "code",
   "execution_count": 166,
   "metadata": {
    "slideshow": {
     "slide_type": "fragment"
    }
   },
   "outputs": [
    {
     "data": {
      "text/plain": [
       "-0.04017857142857143"
      ]
     },
     "execution_count": 166,
     "metadata": {},
     "output_type": "execute_result"
    }
   ],
   "source": [
    "NPS(51,60,113)"
   ]
  },
  {
   "cell_type": "code",
   "execution_count": 162,
   "metadata": {
    "slideshow": {
     "slide_type": "subslide"
    }
   },
   "outputs": [
    {
     "data": {
      "text/plain": [
       "Passive      130\n",
       "Promoter      57\n",
       "Detractor     21\n",
       "Name: NPS Score, dtype: int64"
      ]
     },
     "execution_count": 162,
     "metadata": {},
     "output_type": "execute_result"
    }
   ],
   "source": [
    "#Games Track\n",
    "df[df['Track'] == 'Games']['NPS Score'].value_counts()"
   ]
  },
  {
   "cell_type": "code",
   "execution_count": 167,
   "metadata": {
    "slideshow": {
     "slide_type": "fragment"
    }
   },
   "outputs": [
    {
     "data": {
      "text/plain": [
       "0.17307692307692307"
      ]
     },
     "execution_count": 167,
     "metadata": {},
     "output_type": "execute_result"
    }
   ],
   "source": [
    "NPS(57,21,130)"
   ]
  },
  {
   "cell_type": "code",
   "execution_count": 163,
   "metadata": {
    "slideshow": {
     "slide_type": "subslide"
    }
   },
   "outputs": [
    {
     "data": {
      "text/plain": [
       "Promoter     34\n",
       "Passive      21\n",
       "Detractor     5\n",
       "Name: NPS Score, dtype: int64"
      ]
     },
     "execution_count": 163,
     "metadata": {},
     "output_type": "execute_result"
    }
   ],
   "source": [
    "#VR Track\n",
    "df[df['Track'] == 'VR']['NPS Score'].value_counts()"
   ]
  },
  {
   "cell_type": "code",
   "execution_count": 168,
   "metadata": {
    "slideshow": {
     "slide_type": "fragment"
    }
   },
   "outputs": [
    {
     "data": {
      "text/plain": [
       "0.26666666666666666"
      ]
     },
     "execution_count": 168,
     "metadata": {},
     "output_type": "execute_result"
    }
   ],
   "source": [
    "NPS(21,5,34)"
   ]
  },
  {
   "cell_type": "code",
   "execution_count": 164,
   "metadata": {
    "slideshow": {
     "slide_type": "subslide"
    }
   },
   "outputs": [
    {
     "data": {
      "text/plain": [
       "Passive      21\n",
       "Promoter     17\n",
       "Detractor     5\n",
       "Name: NPS Score, dtype: int64"
      ]
     },
     "execution_count": 164,
     "metadata": {},
     "output_type": "execute_result"
    }
   ],
   "source": [
    "#Games, Explorer Track\n",
    "df[df['Track'] == 'Games, Explorer']['NPS Score'].value_counts()"
   ]
  },
  {
   "cell_type": "code",
   "execution_count": 169,
   "metadata": {
    "slideshow": {
     "slide_type": "fragment"
    }
   },
   "outputs": [
    {
     "data": {
      "text/plain": [
       "0.27906976744186046"
      ]
     },
     "execution_count": 169,
     "metadata": {},
     "output_type": "execute_result"
    }
   ],
   "source": [
    "NPS(17,5,21)"
   ]
  },
  {
   "cell_type": "markdown",
   "metadata": {
    "slideshow": {
     "slide_type": "slide"
    }
   },
   "source": [
    "# Observations\n",
    "\n",
    "First - Apps, Games, VR, and Games/Explorer had positive NPS over the entire term.\n",
    "\n",
    "Second - Apps/Explorer had negative NPS over the entire term.\n",
    "\n",
    "Third - Games/Explorer had the highest NPS, where Apps/Explorer had the lowest NPS.\n",
    "\n",
    "Fourth - Most Responses were for the Apps Track, with VR and Games/Explorer having second least and least respectively\n",
    "\n",
    "\n"
   ]
  },
  {
   "cell_type": "markdown",
   "metadata": {
    "slideshow": {
     "slide_type": "subslide"
    }
   },
   "source": [
    "# Inferences\n",
    "\n",
    "First - Most students enjoyed their chosen tracks, however Apps/Explorer did not; This could be due to most tracks having students where the participants wanted to and knew they would want to learn that material, where Apps/Explorer was a catchall for those who were not sure or fairly new.\n",
    "\n",
    "Second - Apps/Explorer negative NPS likely due to fairly new programmers in a fairly ambiguous catagory, mixed with less guidance in said track due to its ambiguous and catchall nature;\n",
    "\n",
    "Third - VR and Games/Explorer were the most liked, but least participated tracks; Either students were primarily looking for Apps experience, VR and Games/Explorer had restrictions, or VR and Games/Explorer were not promoted in such a was as to warrent appeal from most students; However, those that did choose that path liked it more than the other options available.\n",
    "\n",
    "Fourth - Games was the middle man, having a high number of responses, and a postive NPS almost equal to Apps, however it's smaller size than Apps leaves it in a limbo situation; Perhaps too many students thought the more focuses Games track would be to their liking, or perhaps the track was not designed in such a way to appeal to larger groups as much. Games could possibly reflect the outcome of smaller, focused tracks like VR, in how they would do with a larger pool of students."
   ]
  },
  {
   "cell_type": "markdown",
   "metadata": {
    "slideshow": {
     "slide_type": "slide"
    }
   },
   "source": [
    "# Conclusion\n",
    "\n",
    "In conclusion, we set out to determine 3 core things, NPS scores for the entire period as well as each week, actionable information useful to Make School, and what can we likely infer from the overall Summer Academy.\n",
    "\n",
    "Overall NPS Scores were mostly positive, with no extraordinary responses - at least for pools with large sample sizes. Deeper dives into weekly and Track specific scoring saw that over time NPS increased and all but Apps/Explorer track had positive score.\n",
    "\n",
    "Regarding inferences, we found details that might reflect a short downturn in score during week 4, that may be related to programming or some event during that time, as well as a negative NPS for apps/explorer, and low turnout for VR and Games/Explorer - with the latter 2 having the highest ratings - that may reflect that Apps was either seen as the main reason for attending the Academy, that is was advertised the heaviest, or that the other programs were not presented in such a way as to attract participants, but that of those who did participate, they had, on average, a better experience than other students.\n",
    "\n"
   ]
  },
  {
   "cell_type": "markdown",
   "metadata": {
    "slideshow": {
     "slide_type": "subslide"
    }
   },
   "source": [
    "# Conclusion Cont.\n",
    "\n",
    "Finally, Actionable Information. From our inferences and data manipulation, if Make School were to continue the Academy or are looking to use this information to inform future programming, than an Apps and Games focus seem to be the most consistant avenues to pursue, However given our inferences on Games and the success of VR and Games/Explorer, it is reasonable to assume that in larger quantities fringe elements of Game developement, like VR, would be as highly revered or more so, if Make School decided to teach classes or offer a track in those fields. Actionable improvements, based on our inferences, would be to closely examine the Apps/Explorer track to determine what exactly caused the negative reviews, and to see what occured during week 4 that would cause a 5% downtick in NPS.\n",
    "\n",
    "Overall Improving on the quality of Apps/Explorer and broadening learning opportunities to VR and Game development, would likely be the best actionable information based on the 2017 Summer Academy surveys and NPS manipulation."
   ]
  }
 ],
 "metadata": {
  "celltoolbar": "Slideshow",
  "kernelspec": {
   "display_name": "Python 3",
   "language": "python",
   "name": "python3"
  },
  "language_info": {
   "codemirror_mode": {
    "name": "ipython",
    "version": 3
   },
   "file_extension": ".py",
   "mimetype": "text/x-python",
   "name": "python",
   "nbconvert_exporter": "python",
   "pygments_lexer": "ipython3",
   "version": "3.7.4"
  }
 },
 "nbformat": 4,
 "nbformat_minor": 2
}
