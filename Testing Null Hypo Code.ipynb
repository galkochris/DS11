{
 "cells": [
  {
   "cell_type": "code",
   "execution_count": 39,
   "metadata": {},
   "outputs": [],
   "source": [
    "import pandas\n",
    "import numpy as np\n",
    "from pandas.plotting import scatter_matrix\n",
    "import matplotlib.pyplot as plt\n",
    "from scipy import stats\n",
    "from scipy.stats import ttest_ind\n",
    "data = pandas.read_csv('brain_size.csv', sep=';', na_values=\".\")"
   ]
  },
  {
   "cell_type": "code",
   "execution_count": 10,
   "metadata": {},
   "outputs": [],
   "source": [
    "group_by_gender = data.groupby('Gender')"
   ]
  },
  {
   "cell_type": "code",
   "execution_count": 27,
   "metadata": {},
   "outputs": [
    {
     "name": "stdout",
     "output_type": "stream",
     "text": [
      "('Female', 109.45)\n",
      "('Male', 115.25)\n"
     ]
    }
   ],
   "source": [
    "for gender, value in group_by_gender['VIQ']:\n",
    "    viq = ((gender, value.mean()))\n",
    "    print(viq)"
   ]
  },
  {
   "cell_type": "code",
   "execution_count": 28,
   "metadata": {},
   "outputs": [
    {
     "name": "stdout",
     "output_type": "stream",
     "text": [
      "('Female', 111.9)\n",
      "('Male', 115.0)\n"
     ]
    }
   ],
   "source": [
    "for gender, value in group_by_gender['FSIQ']:\n",
    "    fsiq=((gender, value.mean()))\n",
    "    print(fsiq)"
   ]
  },
  {
   "cell_type": "code",
   "execution_count": 29,
   "metadata": {},
   "outputs": [
    {
     "name": "stdout",
     "output_type": "stream",
     "text": [
      "('Female', 110.45)\n",
      "('Male', 111.6)\n"
     ]
    }
   ],
   "source": [
    "for gender, value in group_by_gender['PIQ']:\n",
    "    piq=((gender, value.mean()))\n",
    "    print(piq)"
   ]
  },
  {
   "cell_type": "code",
   "execution_count": 30,
   "metadata": {},
   "outputs": [
    {
     "name": "stdout",
     "output_type": "stream",
     "text": [
      "('Female', 137.2)\n",
      "('Male', 166.44444444444446)\n"
     ]
    }
   ],
   "source": [
    "for gender, value in group_by_gender['Weight']:\n",
    "    weight=((gender, value.mean()))\n",
    "    print(weight)"
   ]
  },
  {
   "cell_type": "code",
   "execution_count": 31,
   "metadata": {},
   "outputs": [
    {
     "name": "stdout",
     "output_type": "stream",
     "text": [
      "('Female', 65.765)\n",
      "('Male', 71.43157894736842)\n"
     ]
    }
   ],
   "source": [
    "for gender, value in group_by_gender['Height']:\n",
    "    height=((gender, value.mean()))\n",
    "    print(height)"
   ]
  },
  {
   "cell_type": "code",
   "execution_count": 63,
   "metadata": {},
   "outputs": [
    {
     "name": "stdout",
     "output_type": "stream",
     "text": [
      "VIQ Null\n"
     ]
    }
   ],
   "source": [
    "stat,p = ttest_ind(data[data['Gender'] == 'Male']['VIQ'].dropna(), data[data['Gender'] == 'Female']['VIQ'].dropna())\n",
    "if p < 0.05:\n",
    "    print('VIQ Not Null')\n",
    "else:\n",
    "    print('VIQ Null')"
   ]
  },
  {
   "cell_type": "code",
   "execution_count": 61,
   "metadata": {},
   "outputs": [
    {
     "name": "stdout",
     "output_type": "stream",
     "text": [
      "Ttest_indResult(statistic=0.7726161723275011, pvalue=0.44452876778583217)\n",
      "VIQ Null\n",
      "Ttest_indResult(statistic=0.4026724743703011, pvalue=0.6894456253897778)\n",
      "FSIQ Null\n",
      "Ttest_indResult(statistic=0.15980113150762698, pvalue=0.8738841403250049)\n",
      "PIQ Null\n",
      "Ttest_indResult(statistic=6.280184459523685, pvalue=2.623667704653113e-07)\n",
      "Height Not Null\n",
      "Ttest_indResult(statistic=4.870950921940696, pvalue=2.227293018362118e-05)\n",
      "Weight Not Null\n"
     ]
    }
   ],
   "source": [
    "for i in data[['VIQ', 'FSIQ', 'PIQ', 'Height', 'Weight']]:\n",
    "    ttest = ttest_ind(data[data['Gender'] == 'Male'][i].dropna(), data[data['Gender'] == 'Female'][i].dropna())\n",
    "    print(ttest)\n",
    "    if ttest[1] < 0.05:\n",
    "        print(f'{i} Not Null')\n",
    "    else:\n",
    "        print(f'{i} Null')\n"
   ]
  },
  {
   "cell_type": "code",
   "execution_count": 54,
   "metadata": {},
   "outputs": [
    {
     "data": {
      "text/plain": [
       "Index(['FSIQ', 'VIQ', 'PIQ', 'Weight', 'Height'], dtype='object')"
      ]
     },
     "execution_count": 54,
     "metadata": {},
     "output_type": "execute_result"
    }
   ],
   "source": [
    "data.columns[2:7]"
   ]
  },
  {
   "cell_type": "code",
   "execution_count": null,
   "metadata": {},
   "outputs": [],
   "source": []
  }
 ],
 "metadata": {
  "kernelspec": {
   "display_name": "Python 3",
   "language": "python",
   "name": "python3"
  },
  "language_info": {
   "codemirror_mode": {
    "name": "ipython",
    "version": 3
   },
   "file_extension": ".py",
   "mimetype": "text/x-python",
   "name": "python",
   "nbconvert_exporter": "python",
   "pygments_lexer": "ipython3",
   "version": "3.7.4"
  }
 },
 "nbformat": 4,
 "nbformat_minor": 2
}
