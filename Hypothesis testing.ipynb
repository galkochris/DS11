{
 "cells": [
  {
   "cell_type": "code",
   "execution_count": 3,
   "metadata": {},
   "outputs": [],
   "source": [
    "import pandas as pd\n",
    "import numpy as np\n",
    "from scipy.stats import norm"
   ]
  },
  {
   "cell_type": "code",
   "execution_count": 26,
   "metadata": {},
   "outputs": [],
   "source": [
    "def accept_reject_null(mu, significant_level, sample_mean, N, sigma):\n",
    "    z_score = (sample_mean - mu)/(sigma/np.sqrt(N))\n",
    "    p_value = 2*norm.sf(np.abs(z_score))\n",
    "    \n",
    "    if p_value < significant_level:\n",
    "        return \"Null is correct: \" + str(p_value)\n",
    "    else:\n",
    "        return \"Null is not correct\""
   ]
  },
  {
   "cell_type": "code",
   "execution_count": 27,
   "metadata": {},
   "outputs": [
    {
     "data": {
      "text/plain": [
       "'Null is correct: 0.0026997960632602026'"
      ]
     },
     "execution_count": 27,
     "metadata": {},
     "output_type": "execute_result"
    }
   ],
   "source": [
    "accept_reject_null(1.2,0.05,1.05,100,0.5)"
   ]
  },
  {
   "cell_type": "code",
   "execution_count": 31,
   "metadata": {},
   "outputs": [],
   "source": [
    "def t_or_z(mu, signif, data, sigma):\n",
    "    if sigma:\n",
    "        z_score = (np.mean(data) - mu)/(sigma/np.sqrt(len(data)))\n",
    "        p_value = 2*norm.sf(np.abs(z_score))\n",
    "    elif len(data) > 30:\n",
    "        t_score = (np.mean(data) - mu)/(np.std(data)/np.sqrt(len(data)))\n",
    "        p_value = 2*norm.sf(np.abs(t_score))\n",
    "    else:\n",
    "        t, p = stats.ttest_lsamp(data, mu)\n",
    "    \n",
    "    if p_value <= signif:\n",
    "        return 'reject null hypothesis; p value is: ' + str(p_value)\n",
    "    else:\n",
    "        return 'accept null hypothesis'"
   ]
  },
  {
   "cell_type": "markdown",
   "metadata": {},
   "source": [
    "## Background on t-test\n",
    "\n",
    "https://en.wikipedia.org/wiki/Student%27s_t-test\n",
    "\n",
    "\n",
    "## Background on binomial test\n",
    "\n",
    "https://docs.scipy.org/doc/scipy/reference/generated/scipy.stats.binom_test.html"
   ]
  },
  {
   "cell_type": "markdown",
   "metadata": {},
   "source": [
    "t-test, z-test are used in scenarios with known datasets with similar variance; z tests are for instances of no defined sigma from the standard data; t tests are for when we have a dataset larger than 30 but were not given a sigma;\n",
    "\n",
    "Binomial tests are for when our data is Boolean by nature (either match the scenario or do not); example given is weight of a product being desired weight, weather the production process of a widget is more efficient post improvment, and if rolling a six could lead one to determine a statistical anomily is reflective of unnatural process"
   ]
  },
  {
   "cell_type": "code",
   "execution_count": null,
   "metadata": {},
   "outputs": [],
   "source": []
  }
 ],
 "metadata": {
  "kernelspec": {
   "display_name": "Python 3",
   "language": "python",
   "name": "python3"
  },
  "language_info": {
   "codemirror_mode": {
    "name": "ipython",
    "version": 3
   },
   "file_extension": ".py",
   "mimetype": "text/x-python",
   "name": "python",
   "nbconvert_exporter": "python",
   "pygments_lexer": "ipython3",
   "version": "3.7.4"
  }
 },
 "nbformat": 4,
 "nbformat_minor": 2
}
