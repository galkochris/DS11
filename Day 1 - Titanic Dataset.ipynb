{
 "cells": [
  {
   "cell_type": "code",
   "execution_count": 2,
   "metadata": {},
   "outputs": [
    {
     "name": "stdout",
     "output_type": "stream",
     "text": [
      "[1, 2, 3, 8, 9, 10, 11, 14, 15, 18, 19, 22, 24, 25, 28, 31, 32, 38, 39, 40, 41, 43, 44, 47, 49, 52, 53, 56, 58, 61, 66, 68, 71, 79, 82, 84, 85, 88, 98, 100, 106, 109, 111, 113, 114, 119, 123, 128, 132, 133, 136, 140, 141, 142, 147, 151, 156, 161, 166, 167, 172, 177, 180, 184, 186, 190, 192, 194, 195, 198, 199, 205, 208, 211, 215, 216, 218, 229, 230, 233, 235, 237, 240, 241, 246, 247, 251, 254, 255, 256, 257, 258, 259, 264, 268, 269, 272, 274, 275, 276, 279, 289, 290, 291, 293, 297, 299, 300, 303, 306, 307, 309, 310, 311, 312, 315, 316, 318, 319, 322, 323, 325, 327, 328, 329, 330, 334, 337, 341, 345, 346, 347, 356, 357, 358, 359, 362, 366, 367, 368, 369, 374, 375, 376, 380, 381, 383, 387, 389, 393, 394, 396, 399, 402, 404, 409, 412, 415, 416, 417, 419, 423, 426, 427, 431, 432, 435, 436, 437, 440, 443, 446, 448, 457, 458, 469, 472, 473, 474, 479, 483, 485, 486, 496, 498, 501, 502, 503, 504, 506, 513, 516, 518, 520, 523, 526, 530, 533, 534, 535, 537, 539, 540, 541, 542, 546, 554, 556, 558, 559, 564, 567, 571, 573, 576, 577, 578, 580, 581, 585, 591, 593, 596, 600, 608, 609, 610, 612, 615, 617, 618, 627, 634, 635, 638, 641, 642, 644, 649, 651, 653, 654, 657, 669, 670, 677, 678, 680, 689, 691, 697, 700, 702, 706, 708, 710, 716, 717, 720, 726, 727, 729, 730, 736, 742, 747, 750, 754, 759, 763, 765, 767, 772, 774, 777, 779, 780, 781, 786, 792, 796, 797, 799, 801, 807, 809, 813, 816, 820, 823, 829, 830, 835, 842, 849, 852, 853, 854, 855, 856, 858, 862, 863, 865, 866, 871, 874, 875, 879, 880, 882, 885, 887, 888]\n",
      "233\n"
     ]
    }
   ],
   "source": [
    "import csv\n",
    "\n",
    "with open('titanic.csv') as csv_file:\n",
    "    csv_reader = csv.reader(csv_file, delimiter=',')\n",
    "    gender_ls = []\n",
    "    survive_ls = []\n",
    "    for row in csv_reader:\n",
    "        gender_ls.append(row[4])\n",
    "        survive_ls.append(row[1])\n",
    "\n",
    "gender_ls = gender_ls[1:]  \n",
    "survive_ls = survive_ls [1:]\n",
    "\n",
    "female_index = [i for i, j in enumerate(gender_ls) if j == 'female']\n",
    "print(female_index)\n",
    "female_survived_not_survived = [survive_ls[i] for i in female_index]\n",
    "\n",
    "num_female_survived = len([i for i, j in enumerate(female_survived_not_survived) if j == '1'])\n",
    "print(num_female_survived)\n",
    "\n"
   ]
  },
  {
   "cell_type": "code",
   "execution_count": 7,
   "metadata": {},
   "outputs": [
    {
     "name": "stdout",
     "output_type": "stream",
     "text": [
      "233\n"
     ]
    }
   ],
   "source": [
    "with open ('titanic.csv') as csv_files:\n",
    "    csv_reader = csv.reader(csv_files, delimiter=',')\n",
    "    c = 0\n",
    "    for row in csv_reader:\n",
    "        if (row[1] == '1') and (row[4] == 'female'):\n",
    "            c+=1\n",
    "\n",
    "print(c)"
   ]
  },
  {
   "cell_type": "code",
   "execution_count": 8,
   "metadata": {},
   "outputs": [
    {
     "data": {
      "text/plain": [
       "26.15039281705948"
      ]
     },
     "execution_count": 8,
     "metadata": {},
     "output_type": "execute_result"
    }
   ],
   "source": [
    "233/891 * 100"
   ]
  },
  {
   "cell_type": "code",
   "execution_count": 9,
   "metadata": {},
   "outputs": [
    {
     "data": {
      "text/plain": [
       "9.090909090909092"
      ]
     },
     "execution_count": 9,
     "metadata": {},
     "output_type": "execute_result"
    }
   ],
   "source": [
    "81/891 * 100"
   ]
  },
  {
   "cell_type": "code",
   "execution_count": 10,
   "metadata": {},
   "outputs": [
    {
     "data": {
      "text/plain": [
       "12.2334455667789"
      ]
     },
     "execution_count": 10,
     "metadata": {},
     "output_type": "execute_result"
    }
   ],
   "source": [
    "109/891 * 100"
   ]
  },
  {
   "cell_type": "code",
   "execution_count": 11,
   "metadata": {},
   "outputs": [
    {
     "data": {
      "text/plain": [
       "52.52525252525253"
      ]
     },
     "execution_count": 11,
     "metadata": {},
     "output_type": "execute_result"
    }
   ],
   "source": [
    "468/891 * 100"
   ]
  },
  {
   "cell_type": "markdown",
   "metadata": {},
   "source": [
    "Three questions regarding titanic dataset:\n",
    "\n",
    "How many passengers were male?\n",
    "\n",
    "How many children survived?\n",
    "\n",
    "most common last name?\n",
    "\n",
    "average number of siblings/children?"
   ]
  }
 ],
 "metadata": {
  "kernelspec": {
   "display_name": "Python 3",
   "language": "python",
   "name": "python3"
  },
  "language_info": {
   "codemirror_mode": {
    "name": "ipython",
    "version": 3
   },
   "file_extension": ".py",
   "mimetype": "text/x-python",
   "name": "python",
   "nbconvert_exporter": "python",
   "pygments_lexer": "ipython3",
   "version": "3.7.4"
  }
 },
 "nbformat": 4,
 "nbformat_minor": 2
}
