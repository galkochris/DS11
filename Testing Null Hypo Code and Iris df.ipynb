{
 "cells": [
  {
   "cell_type": "code",
   "execution_count": 67,
   "metadata": {},
   "outputs": [],
   "source": [
    "import pandas\n",
    "import numpy as np\n",
    "from pandas.plotting import scatter_matrix\n",
    "import matplotlib.pyplot as plt\n",
    "from scipy import stats\n",
    "from scipy.stats import ttest_ind\n",
    "data = pandas.read_csv('brain_size.csv', sep=';', na_values=\".\")"
   ]
  },
  {
   "cell_type": "code",
   "execution_count": 68,
   "metadata": {},
   "outputs": [],
   "source": [
    "group_by_gender = data.groupby('Gender')"
   ]
  },
  {
   "cell_type": "code",
   "execution_count": 69,
   "metadata": {},
   "outputs": [
    {
     "name": "stdout",
     "output_type": "stream",
     "text": [
      "('Female', 109.45)\n",
      "('Male', 115.25)\n"
     ]
    }
   ],
   "source": [
    "for gender, value in group_by_gender['VIQ']:\n",
    "    viq = ((gender, value.mean()))\n",
    "    print(viq)"
   ]
  },
  {
   "cell_type": "code",
   "execution_count": 70,
   "metadata": {},
   "outputs": [
    {
     "name": "stdout",
     "output_type": "stream",
     "text": [
      "('Female', 111.9)\n",
      "('Male', 115.0)\n"
     ]
    }
   ],
   "source": [
    "for gender, value in group_by_gender['FSIQ']:\n",
    "    fsiq=((gender, value.mean()))\n",
    "    print(fsiq)"
   ]
  },
  {
   "cell_type": "code",
   "execution_count": 71,
   "metadata": {},
   "outputs": [
    {
     "name": "stdout",
     "output_type": "stream",
     "text": [
      "('Female', 110.45)\n",
      "('Male', 111.6)\n"
     ]
    }
   ],
   "source": [
    "for gender, value in group_by_gender['PIQ']:\n",
    "    piq=((gender, value.mean()))\n",
    "    print(piq)"
   ]
  },
  {
   "cell_type": "code",
   "execution_count": 72,
   "metadata": {},
   "outputs": [
    {
     "name": "stdout",
     "output_type": "stream",
     "text": [
      "('Female', 137.2)\n",
      "('Male', 166.44444444444446)\n"
     ]
    }
   ],
   "source": [
    "for gender, value in group_by_gender['Weight']:\n",
    "    weight=((gender, value.mean()))\n",
    "    print(weight)"
   ]
  },
  {
   "cell_type": "code",
   "execution_count": 73,
   "metadata": {},
   "outputs": [
    {
     "name": "stdout",
     "output_type": "stream",
     "text": [
      "('Female', 65.765)\n",
      "('Male', 71.43157894736842)\n"
     ]
    }
   ],
   "source": [
    "for gender, value in group_by_gender['Height']:\n",
    "    height=((gender, value.mean()))\n",
    "    print(height)"
   ]
  },
  {
   "cell_type": "code",
   "execution_count": 74,
   "metadata": {},
   "outputs": [
    {
     "name": "stdout",
     "output_type": "stream",
     "text": [
      "VIQ Null\n"
     ]
    }
   ],
   "source": [
    "stat,p = ttest_ind(data[data['Gender'] == 'Male']['VIQ'].dropna(), data[data['Gender'] == 'Female']['VIQ'].dropna())\n",
    "if p < 0.05:\n",
    "    print('VIQ Not Null')\n",
    "else:\n",
    "    print('VIQ Null')"
   ]
  },
  {
   "cell_type": "code",
   "execution_count": 75,
   "metadata": {},
   "outputs": [
    {
     "name": "stdout",
     "output_type": "stream",
     "text": [
      "Ttest_indResult(statistic=0.7726161723275011, pvalue=0.44452876778583217)\n",
      "VIQ Null\n",
      "Ttest_indResult(statistic=0.4026724743703011, pvalue=0.6894456253897778)\n",
      "FSIQ Null\n",
      "Ttest_indResult(statistic=0.15980113150762698, pvalue=0.8738841403250049)\n",
      "PIQ Null\n",
      "Ttest_indResult(statistic=6.280184459523685, pvalue=2.623667704653113e-07)\n",
      "Height Not Null\n",
      "Ttest_indResult(statistic=4.870950921940696, pvalue=2.227293018362118e-05)\n",
      "Weight Not Null\n"
     ]
    }
   ],
   "source": [
    "for i in data[['VIQ', 'FSIQ', 'PIQ', 'Height', 'Weight']]:\n",
    "    ttest = ttest_ind(data[data['Gender'] == 'Male'][i].dropna(), data[data['Gender'] == 'Female'][i].dropna())\n",
    "    print(ttest)\n",
    "    if ttest[1] < 0.05:\n",
    "        print(f'{i} Not Null')\n",
    "    else:\n",
    "        print(f'{i} Null')\n"
   ]
  },
  {
   "cell_type": "code",
   "execution_count": 76,
   "metadata": {},
   "outputs": [
    {
     "data": {
      "text/plain": [
       "Index(['FSIQ', 'VIQ', 'PIQ', 'Weight', 'Height'], dtype='object')"
      ]
     },
     "execution_count": 76,
     "metadata": {},
     "output_type": "execute_result"
    }
   ],
   "source": [
    "data.columns[2:7]"
   ]
  },
  {
   "cell_type": "code",
   "execution_count": 77,
   "metadata": {},
   "outputs": [
    {
     "name": "stdout",
     "output_type": "stream",
     "text": [
      "0.8717541573048714\n",
      "(0.8717541573048713, 1.0384540627941062e-47)\n"
     ]
    },
    {
     "data": {
      "image/png": "[encoded data removed]",
      "text/plain": [
       "<Figure size 432x288 with 2 Axes>"
      ]
     },
     "metadata": {
      "needs_background": "light"
     },
     "output_type": "display_data"
    }
   ],
   "source": [
    "import pandas as pd\n",
    "import numpy as np\n",
    "import scipy.stats\n",
    "import seaborn as sns\n",
    "import scipy.stats\n",
    "\n",
    "dfi = pd.read_csv('Iris.csv')\n",
    "dfi = dfi.drop(columns=['Id', 'Species'])\n",
    "sns.heatmap(df.corr(), annot=True)\n",
    "\n",
    "def pearson_corr(x, y):\n",
    "    x_mean = np.mean(x)\n",
    "    y_mean = np.mean(y)\n",
    "    num = [(i - x_mean)*(j - y_mean) for i,j in zip(x,y)]\n",
    "    den_1 = [(i - x_mean)**2 for i in x]\n",
    "    den_2 = [(j - y_mean)**2 for j in y]\n",
    "    correlation_x_y = np.sum(num)/np.sqrt(np.sum(den_1))/np.sqrt(np.sum(den_2))\n",
    "    return correlation_x_y\n",
    "\n",
    "print(pearson_corr(df['SepalLengthCm'], df['PetalLengthCm']))\n",
    "print(scipy.stats.pearsonr(df['SepalLengthCm'], df['PetalLengthCm']))"
   ]
  },
  {
   "cell_type": "markdown",
   "metadata": {},
   "source": [
    "# Working with iris dataset"
   ]
  },
  {
   "cell_type": "code",
   "execution_count": 150,
   "metadata": {},
   "outputs": [
    {
     "data": {
      "text/html": [
       "<div>\n",
       "<style scoped>\n",
       "    .dataframe tbody tr th:only-of-type {\n",
       "        vertical-align: middle;\n",
       "    }\n",
       "\n",
       "    .dataframe tbody tr th {\n",
       "        vertical-align: top;\n",
       "    }\n",
       "\n",
       "    .dataframe thead th {\n",
       "        text-align: right;\n",
       "    }\n",
       "</style>\n",
       "<table border=\"1\" class=\"dataframe\">\n",
       "  <thead>\n",
       "    <tr style=\"text-align: right;\">\n",
       "      <th></th>\n",
       "      <th>Id</th>\n",
       "      <th>SepalLengthCm</th>\n",
       "      <th>SepalWidthCm</th>\n",
       "      <th>PetalLengthCm</th>\n",
       "      <th>PetalWidthCm</th>\n",
       "      <th>Species</th>\n",
       "    </tr>\n",
       "  </thead>\n",
       "  <tbody>\n",
       "    <tr>\n",
       "      <td>0</td>\n",
       "      <td>1</td>\n",
       "      <td>5.1</td>\n",
       "      <td>3.5</td>\n",
       "      <td>1.4</td>\n",
       "      <td>0.2</td>\n",
       "      <td>Iris-setosa</td>\n",
       "    </tr>\n",
       "    <tr>\n",
       "      <td>1</td>\n",
       "      <td>2</td>\n",
       "      <td>4.9</td>\n",
       "      <td>3.0</td>\n",
       "      <td>1.4</td>\n",
       "      <td>0.2</td>\n",
       "      <td>Iris-setosa</td>\n",
       "    </tr>\n",
       "    <tr>\n",
       "      <td>2</td>\n",
       "      <td>3</td>\n",
       "      <td>4.7</td>\n",
       "      <td>3.2</td>\n",
       "      <td>1.3</td>\n",
       "      <td>0.2</td>\n",
       "      <td>Iris-setosa</td>\n",
       "    </tr>\n",
       "    <tr>\n",
       "      <td>3</td>\n",
       "      <td>4</td>\n",
       "      <td>4.6</td>\n",
       "      <td>3.1</td>\n",
       "      <td>1.5</td>\n",
       "      <td>0.2</td>\n",
       "      <td>Iris-setosa</td>\n",
       "    </tr>\n",
       "    <tr>\n",
       "      <td>4</td>\n",
       "      <td>5</td>\n",
       "      <td>5.0</td>\n",
       "      <td>3.6</td>\n",
       "      <td>1.4</td>\n",
       "      <td>0.2</td>\n",
       "      <td>Iris-setosa</td>\n",
       "    </tr>\n",
       "    <tr>\n",
       "      <td>...</td>\n",
       "      <td>...</td>\n",
       "      <td>...</td>\n",
       "      <td>...</td>\n",
       "      <td>...</td>\n",
       "      <td>...</td>\n",
       "      <td>...</td>\n",
       "    </tr>\n",
       "    <tr>\n",
       "      <td>145</td>\n",
       "      <td>146</td>\n",
       "      <td>6.7</td>\n",
       "      <td>3.0</td>\n",
       "      <td>5.2</td>\n",
       "      <td>2.3</td>\n",
       "      <td>Iris-virginica</td>\n",
       "    </tr>\n",
       "    <tr>\n",
       "      <td>146</td>\n",
       "      <td>147</td>\n",
       "      <td>6.3</td>\n",
       "      <td>2.5</td>\n",
       "      <td>5.0</td>\n",
       "      <td>1.9</td>\n",
       "      <td>Iris-virginica</td>\n",
       "    </tr>\n",
       "    <tr>\n",
       "      <td>147</td>\n",
       "      <td>148</td>\n",
       "      <td>6.5</td>\n",
       "      <td>3.0</td>\n",
       "      <td>5.2</td>\n",
       "      <td>2.0</td>\n",
       "      <td>Iris-virginica</td>\n",
       "    </tr>\n",
       "    <tr>\n",
       "      <td>148</td>\n",
       "      <td>149</td>\n",
       "      <td>6.2</td>\n",
       "      <td>3.4</td>\n",
       "      <td>5.4</td>\n",
       "      <td>2.3</td>\n",
       "      <td>Iris-virginica</td>\n",
       "    </tr>\n",
       "    <tr>\n",
       "      <td>149</td>\n",
       "      <td>150</td>\n",
       "      <td>5.9</td>\n",
       "      <td>3.0</td>\n",
       "      <td>5.1</td>\n",
       "      <td>1.8</td>\n",
       "      <td>Iris-virginica</td>\n",
       "    </tr>\n",
       "  </tbody>\n",
       "</table>\n",
       "<p>150 rows × 6 columns</p>\n",
       "</div>"
      ],
      "text/plain": [
       "      Id  SepalLengthCm  SepalWidthCm  PetalLengthCm  PetalWidthCm  \\\n",
       "0      1            5.1           3.5            1.4           0.2   \n",
       "1      2            4.9           3.0            1.4           0.2   \n",
       "2      3            4.7           3.2            1.3           0.2   \n",
       "3      4            4.6           3.1            1.5           0.2   \n",
       "4      5            5.0           3.6            1.4           0.2   \n",
       "..   ...            ...           ...            ...           ...   \n",
       "145  146            6.7           3.0            5.2           2.3   \n",
       "146  147            6.3           2.5            5.0           1.9   \n",
       "147  148            6.5           3.0            5.2           2.0   \n",
       "148  149            6.2           3.4            5.4           2.3   \n",
       "149  150            5.9           3.0            5.1           1.8   \n",
       "\n",
       "            Species  \n",
       "0       Iris-setosa  \n",
       "1       Iris-setosa  \n",
       "2       Iris-setosa  \n",
       "3       Iris-setosa  \n",
       "4       Iris-setosa  \n",
       "..              ...  \n",
       "145  Iris-virginica  \n",
       "146  Iris-virginica  \n",
       "147  Iris-virginica  \n",
       "148  Iris-virginica  \n",
       "149  Iris-virginica  \n",
       "\n",
       "[150 rows x 6 columns]"
      ]
     },
     "execution_count": 150,
     "metadata": {},
     "output_type": "execute_result"
    }
   ],
   "source": [
    "dfi = pandas.read_csv('Iris.csv')\n",
    "dfi.head()\n",
    "dfi"
   ]
  },
  {
   "cell_type": "markdown",
   "metadata": {},
   "source": [
    "# Explore the dataset, how many features, records and plants does it have?\n",
    "\n",
    "the dataset has 3 features and 5 records (sepal, petal, Species) (length, width of both and species) and 150 records\n"
   ]
  },
  {
   "cell_type": "markdown",
   "metadata": {},
   "source": [
    "# Gather all of the sepal length for iris setosa and the std of length"
   ]
  },
  {
   "cell_type": "code",
   "execution_count": 179,
   "metadata": {},
   "outputs": [],
   "source": [
    "Slen=dfi[dfi['Species'] == 'Iris-setosa']['SepalLengthCm'] #can also do .Species instead of ['SpeciesA']"
   ]
  },
  {
   "cell_type": "code",
   "execution_count": 177,
   "metadata": {},
   "outputs": [
    {
     "data": {
      "text/plain": [
       "0.3524896872134512"
      ]
     },
     "execution_count": 177,
     "metadata": {},
     "output_type": "execute_result"
    }
   ],
   "source": [
    "Slen.std(ddof=1)"
   ]
  },
  {
   "cell_type": "code",
   "execution_count": 178,
   "metadata": {},
   "outputs": [
    {
     "data": {
      "text/plain": [
       "0.3524896872134512"
      ]
     },
     "execution_count": 178,
     "metadata": {},
     "output_type": "execute_result"
    }
   ],
   "source": [
    "np.std(Slen, ddof=1)"
   ]
  },
  {
   "cell_type": "code",
   "execution_count": 128,
   "metadata": {},
   "outputs": [
    {
     "data": {
      "text/plain": [
       "5.005999999999999"
      ]
     },
     "execution_count": 128,
     "metadata": {},
     "output_type": "execute_result"
    }
   ],
   "source": [
    "Slen.mean()"
   ]
  },
  {
   "cell_type": "code",
   "execution_count": 135,
   "metadata": {},
   "outputs": [
    {
     "data": {
      "text/html": [
       "<div>\n",
       "<style scoped>\n",
       "    .dataframe tbody tr th:only-of-type {\n",
       "        vertical-align: middle;\n",
       "    }\n",
       "\n",
       "    .dataframe tbody tr th {\n",
       "        vertical-align: top;\n",
       "    }\n",
       "\n",
       "    .dataframe thead th {\n",
       "        text-align: right;\n",
       "    }\n",
       "</style>\n",
       "<table border=\"1\" class=\"dataframe\">\n",
       "  <thead>\n",
       "    <tr style=\"text-align: right;\">\n",
       "      <th></th>\n",
       "      <th>Id</th>\n",
       "      <th>SepalLengthCm</th>\n",
       "      <th>SepalWidthCm</th>\n",
       "      <th>PetalLengthCm</th>\n",
       "      <th>PetalWidthCm</th>\n",
       "    </tr>\n",
       "  </thead>\n",
       "  <tbody>\n",
       "    <tr>\n",
       "      <td>Id</td>\n",
       "      <td>1.000000</td>\n",
       "      <td>0.716676</td>\n",
       "      <td>-0.397729</td>\n",
       "      <td>0.882747</td>\n",
       "      <td>0.899759</td>\n",
       "    </tr>\n",
       "    <tr>\n",
       "      <td>SepalLengthCm</td>\n",
       "      <td>0.716676</td>\n",
       "      <td>1.000000</td>\n",
       "      <td>-0.109369</td>\n",
       "      <td>0.871754</td>\n",
       "      <td>0.817954</td>\n",
       "    </tr>\n",
       "    <tr>\n",
       "      <td>SepalWidthCm</td>\n",
       "      <td>-0.397729</td>\n",
       "      <td>-0.109369</td>\n",
       "      <td>1.000000</td>\n",
       "      <td>-0.420516</td>\n",
       "      <td>-0.356544</td>\n",
       "    </tr>\n",
       "    <tr>\n",
       "      <td>PetalLengthCm</td>\n",
       "      <td>0.882747</td>\n",
       "      <td>0.871754</td>\n",
       "      <td>-0.420516</td>\n",
       "      <td>1.000000</td>\n",
       "      <td>0.962757</td>\n",
       "    </tr>\n",
       "    <tr>\n",
       "      <td>PetalWidthCm</td>\n",
       "      <td>0.899759</td>\n",
       "      <td>0.817954</td>\n",
       "      <td>-0.356544</td>\n",
       "      <td>0.962757</td>\n",
       "      <td>1.000000</td>\n",
       "    </tr>\n",
       "  </tbody>\n",
       "</table>\n",
       "</div>"
      ],
      "text/plain": [
       "                     Id  SepalLengthCm  SepalWidthCm  PetalLengthCm  \\\n",
       "Id             1.000000       0.716676     -0.397729       0.882747   \n",
       "SepalLengthCm  0.716676       1.000000     -0.109369       0.871754   \n",
       "SepalWidthCm  -0.397729      -0.109369      1.000000      -0.420516   \n",
       "PetalLengthCm  0.882747       0.871754     -0.420516       1.000000   \n",
       "PetalWidthCm   0.899759       0.817954     -0.356544       0.962757   \n",
       "\n",
       "               PetalWidthCm  \n",
       "Id                 0.899759  \n",
       "SepalLengthCm      0.817954  \n",
       "SepalWidthCm      -0.356544  \n",
       "PetalLengthCm      0.962757  \n",
       "PetalWidthCm       1.000000  "
      ]
     },
     "execution_count": 135,
     "metadata": {},
     "output_type": "execute_result"
    }
   ],
   "source": [
    "#correleation\n",
    "dfi.corr()"
   ]
  },
  {
   "cell_type": "code",
   "execution_count": 134,
   "metadata": {},
   "outputs": [
    {
     "data": {
      "text/plain": [
       "<matplotlib.axes._subplots.AxesSubplot at 0x1a244bba50>"
      ]
     },
     "execution_count": 134,
     "metadata": {},
     "output_type": "execute_result"
    },
    {
     "data": {
      "image/png": "[encoded data removed]",
      "text/plain": [
       "<Figure size 432x288 with 2 Axes>"
      ]
     },
     "metadata": {
      "needs_background": "light"
     },
     "output_type": "display_data"
    }
   ],
   "source": [
    "#correlation plot\n",
    "sns.heatmap(dfi.corr())"
   ]
  },
  {
   "cell_type": "markdown",
   "metadata": {},
   "source": [
    "# Outlier detection and removal\n",
    "\n",
    "given list x has normal distribution any element in x[i] > x_bar+3std(x) and x[i] <= x_bar - 3std(x) are outliers and should be removed;\n",
    "\n",
    "find and remove outliers if our datset is Normal"
   ]
  },
  {
   "cell_type": "code",
   "execution_count": 153,
   "metadata": {},
   "outputs": [],
   "source": [
    "def find_remove_out(df):\n",
    "    outlier = []\n",
    "    for i in df:\n",
    "        if i > df.mean() + 3*df.std() or i <= df.mean() - 3*df.std():\n",
    "            outlier.append(i)\n",
    "    for i in outlier:\n",
    "        df.drop(i)\n",
    "    return outlier, df"
   ]
  },
  {
   "cell_type": "code",
   "execution_count": 160,
   "metadata": {},
   "outputs": [],
   "source": [
    "nSlen=find_remove_out(Slen)"
   ]
  },
  {
   "cell_type": "code",
   "execution_count": null,
   "metadata": {},
   "outputs": [],
   "source": []
  },
  {
   "cell_type": "code",
   "execution_count": 175,
   "metadata": {},
   "outputs": [
    {
     "name": "stdout",
     "output_type": "stream",
     "text": [
      "<class 'numpy.ndarray'>\n",
      "([1.9528431335015735, -5.0, 11.0, 14.0], 2.0623834184755547, 8.071215970743186, array([ 5.27842888,  4.49771068,  6.19913776,  4.75186579,  5.81528401,\n",
      "        5.82052351,  5.06754274,  3.73590785,  4.58035146,  6.46858319,\n",
      "        4.13591987,  4.31216617,  4.87169016,  4.18961327,  4.58705723,\n",
      "        6.23985855,  4.15900414,  5.51627773,  4.78434471,  4.61525432,\n",
      "        1.95284313,  6.83937033,  7.6224842 ,  4.5763076 ,  4.11373387,\n",
      "        5.49125664,  6.07084605,  4.31922508,  5.62500795,  6.47136475,\n",
      "        6.10421864,  5.25552291,  5.4002555 ,  5.21001365,  5.1711194 ,\n",
      "        4.84570659,  6.26559735,  4.26548117,  4.67532211,  3.77626825,\n",
      "        3.96011697,  6.10895192,  6.19840934,  6.93896316,  4.97558617,\n",
      "        5.50071267,  6.08906867,  4.71602003,  7.02852672,  5.95799435,\n",
      "        3.57458561,  4.97832881,  5.76980463,  2.57962504,  3.70570925,\n",
      "        5.8380856 ,  4.79870113,  5.27588763,  4.30501765,  4.30735454,\n",
      "        5.51981332,  5.85534035,  6.03480511,  5.12548471,  4.29363577,\n",
      "        3.84712031,  5.68459423,  4.74484958,  6.51221338,  5.46242741,\n",
      "        5.82831798,  4.10824411,  4.92097104,  4.40624351,  5.02557155,\n",
      "        4.18000804,  4.19993924,  5.38035827,  4.21962462,  4.06175556,\n",
      "        4.36614837,  5.42575742,  3.83619995,  4.57379352,  5.73279041,\n",
      "        4.84494426,  4.77308141,  3.95880704,  5.3955037 ,  6.90770166,\n",
      "        6.46664261,  4.81155157,  5.12676284,  6.04058069,  4.55227868,\n",
      "        4.30340085,  5.26915451,  4.75012207,  4.68135612,  5.3852071 ,\n",
      "       -5.        , 11.        , 14.        ]))\n",
      "1.5022081380669077\n"
     ]
    }
   ],
   "source": [
    "def out_iqr(data_sample):\n",
    "    q1, q3 = np.percentile(data_sample, 25), np.percentile(data_sample, 75)\n",
    "    iqr = q3-q1\n",
    "    cutoff = iqr *1.5\n",
    "    lower, upper = q1-cutoff, q3+cutoff\n",
    "    outlier = [x for x in data_sample if x < lower or x > upper]\n",
    "    outliers_removed = [x for x in data_sample if x < lower or x > upper]\n",
    "    return outlier, lower, upper, data_sample\n",
    "\n",
    "y = np.array([-5, 11, 14])\n",
    "x = np.concatenate((scipy.stats.norm.rvs(loc=5, scale=1, size=100), y))\n",
    "print(type(x))\n",
    "print(out_iqr(x))\n",
    "print(scipy.stats.iqr(x))\n",
    "\n"
   ]
  },
  {
   "cell_type": "code",
   "execution_count": 170,
   "metadata": {},
   "outputs": [
    {
     "data": {
      "image/png": "[encoded data removed]",
      "text/plain": [
       "<Figure size 432x288 with 1 Axes>"
      ]
     },
     "metadata": {
      "needs_background": "light"
     },
     "output_type": "display_data"
    }
   ],
   "source": [
    "import matplotlib.pyplot as plt\n",
    "plt.boxplot(x)\n",
    "plt.show()"
   ]
  },
  {
   "cell_type": "code",
   "execution_count": 181,
   "metadata": {},
   "outputs": [
    {
     "data": {
      "text/plain": [
       "array([[<matplotlib.axes._subplots.AxesSubplot object at 0x1a23da03d0>,\n",
       "        <matplotlib.axes._subplots.AxesSubplot object at 0x1a23bd4310>],\n",
       "       [<matplotlib.axes._subplots.AxesSubplot object at 0x1a22fd4e90>,\n",
       "        <matplotlib.axes._subplots.AxesSubplot object at 0x1a24352bd0>]],\n",
       "      dtype=object)"
      ]
     },
     "execution_count": 181,
     "metadata": {},
     "output_type": "execute_result"
    },
    {
     "data": {
      "image/png": "[encoded data removed]",
      "text/plain": [
       "<Figure size 432x288 with 4 Axes>"
      ]
     },
     "metadata": {
      "needs_background": "light"
     },
     "output_type": "display_data"
    }
   ],
   "source": [
    "from pandas.plotting import scatter_matrix\n",
    "\n",
    "scatter_matrix(data[['Weight', 'Height']])"
   ]
  },
  {
   "cell_type": "code",
   "execution_count": null,
   "metadata": {},
   "outputs": [],
   "source": []
  }
 ],
 "metadata": {
  "kernelspec": {
   "display_name": "Python 3",
   "language": "python",
   "name": "python3"
  },
  "language_info": {
   "codemirror_mode": {
    "name": "ipython",
    "version": 3
   },
   "file_extension": ".py",
   "mimetype": "text/x-python",
   "name": "python",
   "nbconvert_exporter": "python",
   "pygments_lexer": "ipython3",
   "version": "3.7.4"
  }
 },
 "nbformat": 4,
 "nbformat_minor": 2
}
